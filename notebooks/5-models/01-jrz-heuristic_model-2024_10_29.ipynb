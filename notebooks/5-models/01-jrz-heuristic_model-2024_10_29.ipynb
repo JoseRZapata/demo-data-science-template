{
 "cells": [
  {
   "cell_type": "markdown",
   "metadata": {},
   "source": [
    "## BaseLine Heuristic Model\n",
    "\n",
    "### By:\n",
    "[Jose R. Zapata](https://joserzapata.github.io/)\n",
    "\n",
    "### Date:\n",
    "2024-10-29\n",
    "\n",
    "### Description:\n",
    "\n",
    "Create a baseline model using a heuristic approach. The model will be based on the data analysis in this notebook <https://github.com/JoseRZapata/demo-data-science-template/blob/main/notebooks/3-analysis/02-jrz-data_description_Manual-pandas-2024_10_24.ipynb>\n",
    "\n",
    "The model will be based on the following rules base on the data analysis:\n",
    "\n",
    "1. If `sex` = `female` and `pclass` < 3  , then survived\n",
    "2. If `age` <=5 or  `age` is between 10 and 15  , then survived\n",
    "3. else, not survived"
   ]
  },
  {
   "cell_type": "markdown",
   "metadata": {
    "pycharm": {
     "name": "#%% md\n"
    }
   },
   "source": [
    "## 📚 Import  libraries"
   ]
  },
  {
   "cell_type": "code",
   "execution_count": 1,
   "metadata": {
    "collapsed": false,
    "pycharm": {
     "name": "#%%\n"
    }
   },
   "outputs": [],
   "source": [
    "# base libraries for data science\n",
    "from pathlib import Path\n",
    "\n",
    "import matplotlib.pyplot as plt\n",
    "import numpy as np\n",
    "import pandas as pd\n",
    "from sklearn.base import BaseEstimator, ClassifierMixin\n",
    "from sklearn.compose import ColumnTransformer\n",
    "from sklearn.impute import SimpleImputer\n",
    "from sklearn.model_selection import (\n",
    "    KFold,\n",
    "    ShuffleSplit,\n",
    "    cross_val_score,\n",
    "    learning_curve,\n",
    "    train_test_split,\n",
    ")\n",
    "from sklearn.pipeline import Pipeline"
   ]
  },
  {
   "cell_type": "markdown",
   "metadata": {
    "pycharm": {
     "name": "#%% md\n"
    }
   },
   "source": [
    "## 💾 Load data"
   ]
  },
  {
   "cell_type": "code",
   "execution_count": 2,
   "metadata": {
    "collapsed": false,
    "pycharm": {
     "name": "#%%\n"
    }
   },
   "outputs": [],
   "source": [
    "DATA_DIR = Path.cwd().resolve().parents[1] / \"data\"\n",
    "\n",
    "titanic_df = pd.read_parquet(\n",
    "    DATA_DIR / \"02_intermediate/titanic_type_fixed.parquet\", engine=\"pyarrow\"\n",
    ")"
   ]
  },
  {
   "cell_type": "code",
   "execution_count": 3,
   "metadata": {},
   "outputs": [
    {
     "name": "stdout",
     "output_type": "stream",
     "text": [
      "Pandas version:  2.1.4\n"
     ]
    }
   ],
   "source": [
    "# print library version for reproducibility\n",
    "\n",
    "print(\"Pandas version: \", pd.__version__)"
   ]
  },
  {
   "cell_type": "markdown",
   "metadata": {
    "pycharm": {
     "name": "#%% md\n"
    }
   },
   "source": [
    "## 👷 Data preparation\n",
    "\n",
    "base on the rules above, for the heuristic model only 3 columns are needed: `sex`, `pclass`, and `age`."
   ]
  },
  {
   "cell_type": "code",
   "execution_count": 4,
   "metadata": {},
   "outputs": [
    {
     "name": "stdout",
     "output_type": "stream",
     "text": [
      "<class 'pandas.core.frame.DataFrame'>\n",
      "RangeIndex: 1309 entries, 0 to 1308\n",
      "Data columns (total 4 columns):\n",
      " #   Column    Non-Null Count  Dtype   \n",
      "---  ------    --------------  -----   \n",
      " 0   sex       1309 non-null   category\n",
      " 1   pclass    1309 non-null   int64   \n",
      " 2   age       1046 non-null   float64 \n",
      " 3   survived  1309 non-null   bool    \n",
      "dtypes: bool(1), category(1), float64(1), int64(1)\n",
      "memory usage: 23.3 KB\n"
     ]
    }
   ],
   "source": [
    "selected_features = [\"sex\", \"pclass\", \"age\", \"survived\"]\n",
    "\n",
    "titanic_features = titanic_df[selected_features]\n",
    "\n",
    "titanic_features.info()"
   ]
  },
  {
   "cell_type": "code",
   "execution_count": 5,
   "metadata": {},
   "outputs": [
    {
     "data": {
      "text/plain": [
       "sex           0\n",
       "pclass        0\n",
       "age         263\n",
       "survived      0\n",
       "dtype: int64"
      ]
     },
     "execution_count": 5,
     "metadata": {},
     "output_type": "execute_result"
    }
   ],
   "source": [
    "titanic_features.isna().sum()"
   ]
  },
  {
   "cell_type": "markdown",
   "metadata": {},
   "source": [
    "The target variable is `survived` and the values are True or False.\n",
    "I'm going to transform the target variable to 1 or 0."
   ]
  },
  {
   "cell_type": "code",
   "execution_count": 6,
   "metadata": {},
   "outputs": [],
   "source": [
    "titanic_features.loc[:, \"survived\"] = titanic_features[\"survived\"].astype(int)"
   ]
  },
  {
   "cell_type": "markdown",
   "metadata": {},
   "source": [
    "drop duplicates if any exist in the dataset, is important to avoid any bias in the dataset or data leakage when a machine learning model is trained on the data.\n",
    "\n",
    "But for a heuristic model, the duplicates don't affect the model."
   ]
  },
  {
   "cell_type": "code",
   "execution_count": 7,
   "metadata": {},
   "outputs": [
    {
     "data": {
      "text/plain": [
       "434"
      ]
     },
     "execution_count": 7,
     "metadata": {},
     "output_type": "execute_result"
    }
   ],
   "source": [
    "len(titanic_features.drop_duplicates())"
   ]
  },
  {
   "cell_type": "markdown",
   "metadata": {},
   "source": [
    "After select only 3 columns theres a lot of duplicates, then more columns are selected the probability of duplicates is lower.\n",
    "\n",
    "I'm Not going to drop duplicates in this case. to keep the 1309 rows to compare with the machine learning models that uses more columns."
   ]
  },
  {
   "cell_type": "code",
   "execution_count": 8,
   "metadata": {},
   "outputs": [
    {
     "name": "stdout",
     "output_type": "stream",
     "text": [
      "<class 'pandas.core.frame.DataFrame'>\n",
      "RangeIndex: 1309 entries, 0 to 1308\n",
      "Data columns (total 4 columns):\n",
      " #   Column    Non-Null Count  Dtype   \n",
      "---  ------    --------------  -----   \n",
      " 0   sex       1309 non-null   category\n",
      " 1   pclass    1309 non-null   int64   \n",
      " 2   age       1046 non-null   float64 \n",
      " 3   survived  1309 non-null   int64   \n",
      "dtypes: category(1), float64(1), int64(2)\n",
      "memory usage: 32.2 KB\n"
     ]
    }
   ],
   "source": [
    "titanic_features.info()"
   ]
  },
  {
   "cell_type": "code",
   "execution_count": 9,
   "metadata": {},
   "outputs": [
    {
     "data": {
      "text/html": [
       "<div>\n",
       "<style scoped>\n",
       "    .dataframe tbody tr th:only-of-type {\n",
       "        vertical-align: middle;\n",
       "    }\n",
       "\n",
       "    .dataframe tbody tr th {\n",
       "        vertical-align: top;\n",
       "    }\n",
       "\n",
       "    .dataframe thead th {\n",
       "        text-align: right;\n",
       "    }\n",
       "</style>\n",
       "<table border=\"1\" class=\"dataframe\">\n",
       "  <thead>\n",
       "    <tr style=\"text-align: right;\">\n",
       "      <th></th>\n",
       "      <th>sex</th>\n",
       "      <th>pclass</th>\n",
       "      <th>age</th>\n",
       "      <th>survived</th>\n",
       "    </tr>\n",
       "  </thead>\n",
       "  <tbody>\n",
       "    <tr>\n",
       "      <th>1148</th>\n",
       "      <td>male</td>\n",
       "      <td>3</td>\n",
       "      <td>35.0</td>\n",
       "      <td>0</td>\n",
       "    </tr>\n",
       "    <tr>\n",
       "      <th>1049</th>\n",
       "      <td>male</td>\n",
       "      <td>3</td>\n",
       "      <td>20.0</td>\n",
       "      <td>1</td>\n",
       "    </tr>\n",
       "    <tr>\n",
       "      <th>982</th>\n",
       "      <td>male</td>\n",
       "      <td>3</td>\n",
       "      <td>NaN</td>\n",
       "      <td>0</td>\n",
       "    </tr>\n",
       "    <tr>\n",
       "      <th>808</th>\n",
       "      <td>male</td>\n",
       "      <td>3</td>\n",
       "      <td>NaN</td>\n",
       "      <td>0</td>\n",
       "    </tr>\n",
       "    <tr>\n",
       "      <th>1195</th>\n",
       "      <td>male</td>\n",
       "      <td>3</td>\n",
       "      <td>NaN</td>\n",
       "      <td>0</td>\n",
       "    </tr>\n",
       "    <tr>\n",
       "      <th>240</th>\n",
       "      <td>male</td>\n",
       "      <td>1</td>\n",
       "      <td>45.0</td>\n",
       "      <td>1</td>\n",
       "    </tr>\n",
       "    <tr>\n",
       "      <th>1118</th>\n",
       "      <td>male</td>\n",
       "      <td>3</td>\n",
       "      <td>25.0</td>\n",
       "      <td>0</td>\n",
       "    </tr>\n",
       "    <tr>\n",
       "      <th>596</th>\n",
       "      <td>male</td>\n",
       "      <td>2</td>\n",
       "      <td>31.0</td>\n",
       "      <td>1</td>\n",
       "    </tr>\n",
       "    <tr>\n",
       "      <th>924</th>\n",
       "      <td>male</td>\n",
       "      <td>3</td>\n",
       "      <td>34.5</td>\n",
       "      <td>0</td>\n",
       "    </tr>\n",
       "    <tr>\n",
       "      <th>65</th>\n",
       "      <td>female</td>\n",
       "      <td>1</td>\n",
       "      <td>33.0</td>\n",
       "      <td>1</td>\n",
       "    </tr>\n",
       "  </tbody>\n",
       "</table>\n",
       "</div>"
      ],
      "text/plain": [
       "         sex  pclass   age  survived\n",
       "1148    male       3  35.0         0\n",
       "1049    male       3  20.0         1\n",
       "982     male       3   NaN         0\n",
       "808     male       3   NaN         0\n",
       "1195    male       3   NaN         0\n",
       "240     male       1  45.0         1\n",
       "1118    male       3  25.0         0\n",
       "596     male       2  31.0         1\n",
       "924     male       3  34.5         0\n",
       "65    female       1  33.0         1"
      ]
     },
     "execution_count": 9,
     "metadata": {},
     "output_type": "execute_result"
    }
   ],
   "source": [
    "titanic_features.sample(10, random_state=42)"
   ]
  },
  {
   "cell_type": "markdown",
   "metadata": {},
   "source": [
    "## 👨‍🏭 Feature Engineering"
   ]
  },
  {
   "cell_type": "code",
   "execution_count": 10,
   "metadata": {},
   "outputs": [],
   "source": [
    "cols_numeric = [\"age\"]\n",
    "cols_categoric = [\"sex\"]\n",
    "cols_categoric_ord = [\"pclass\"]"
   ]
  },
  {
   "cell_type": "markdown",
   "metadata": {},
   "source": [
    "`age` column needs imputation, for this model, we will use the median value. but categorical columns don't need nothing for this heuristic model."
   ]
  },
  {
   "cell_type": "code",
   "execution_count": 11,
   "metadata": {},
   "outputs": [],
   "source": [
    "numeric_pipe = Pipeline(\n",
    "    steps=[\n",
    "        (\"imputer\", SimpleImputer(strategy=\"median\")),\n",
    "    ]\n",
    ")\n",
    "# the order of the columns and the pipelines matters\n",
    "preprocessor = ColumnTransformer(\n",
    "    transformers=[\n",
    "        # passthrough output is equal to input\n",
    "        (\"categoric\", \"passthrough\", cols_categoric),\n",
    "        # passthrough output is equal to input\n",
    "        (\"categoric ordinal\", \"passthrough\", cols_categoric_ord),\n",
    "        (\"numeric\", numeric_pipe, cols_numeric),\n",
    "    ]\n",
    ")"
   ]
  },
  {
   "cell_type": "code",
   "execution_count": 12,
   "metadata": {
    "collapsed": false,
    "pycharm": {
     "name": "#%%\n"
    }
   },
   "outputs": [
    {
     "data": {
      "text/html": [
       "<style>#sk-container-id-1 {color: black;}#sk-container-id-1 pre{padding: 0;}#sk-container-id-1 div.sk-toggleable {background-color: white;}#sk-container-id-1 label.sk-toggleable__label {cursor: pointer;display: block;width: 100%;margin-bottom: 0;padding: 0.3em;box-sizing: border-box;text-align: center;}#sk-container-id-1 label.sk-toggleable__label-arrow:before {content: \"▸\";float: left;margin-right: 0.25em;color: #696969;}#sk-container-id-1 label.sk-toggleable__label-arrow:hover:before {color: black;}#sk-container-id-1 div.sk-estimator:hover label.sk-toggleable__label-arrow:before {color: black;}#sk-container-id-1 div.sk-toggleable__content {max-height: 0;max-width: 0;overflow: hidden;text-align: left;background-color: #f0f8ff;}#sk-container-id-1 div.sk-toggleable__content pre {margin: 0.2em;color: black;border-radius: 0.25em;background-color: #f0f8ff;}#sk-container-id-1 input.sk-toggleable__control:checked~div.sk-toggleable__content {max-height: 200px;max-width: 100%;overflow: auto;}#sk-container-id-1 input.sk-toggleable__control:checked~label.sk-toggleable__label-arrow:before {content: \"▾\";}#sk-container-id-1 div.sk-estimator input.sk-toggleable__control:checked~label.sk-toggleable__label {background-color: #d4ebff;}#sk-container-id-1 div.sk-label input.sk-toggleable__control:checked~label.sk-toggleable__label {background-color: #d4ebff;}#sk-container-id-1 input.sk-hidden--visually {border: 0;clip: rect(1px 1px 1px 1px);clip: rect(1px, 1px, 1px, 1px);height: 1px;margin: -1px;overflow: hidden;padding: 0;position: absolute;width: 1px;}#sk-container-id-1 div.sk-estimator {font-family: monospace;background-color: #f0f8ff;border: 1px dotted black;border-radius: 0.25em;box-sizing: border-box;margin-bottom: 0.5em;}#sk-container-id-1 div.sk-estimator:hover {background-color: #d4ebff;}#sk-container-id-1 div.sk-parallel-item::after {content: \"\";width: 100%;border-bottom: 1px solid gray;flex-grow: 1;}#sk-container-id-1 div.sk-label:hover label.sk-toggleable__label {background-color: #d4ebff;}#sk-container-id-1 div.sk-serial::before {content: \"\";position: absolute;border-left: 1px solid gray;box-sizing: border-box;top: 0;bottom: 0;left: 50%;z-index: 0;}#sk-container-id-1 div.sk-serial {display: flex;flex-direction: column;align-items: center;background-color: white;padding-right: 0.2em;padding-left: 0.2em;position: relative;}#sk-container-id-1 div.sk-item {position: relative;z-index: 1;}#sk-container-id-1 div.sk-parallel {display: flex;align-items: stretch;justify-content: center;background-color: white;position: relative;}#sk-container-id-1 div.sk-item::before, #sk-container-id-1 div.sk-parallel-item::before {content: \"\";position: absolute;border-left: 1px solid gray;box-sizing: border-box;top: 0;bottom: 0;left: 50%;z-index: -1;}#sk-container-id-1 div.sk-parallel-item {display: flex;flex-direction: column;z-index: 1;position: relative;background-color: white;}#sk-container-id-1 div.sk-parallel-item:first-child::after {align-self: flex-end;width: 50%;}#sk-container-id-1 div.sk-parallel-item:last-child::after {align-self: flex-start;width: 50%;}#sk-container-id-1 div.sk-parallel-item:only-child::after {width: 0;}#sk-container-id-1 div.sk-dashed-wrapped {border: 1px dashed gray;margin: 0 0.4em 0.5em 0.4em;box-sizing: border-box;padding-bottom: 0.4em;background-color: white;}#sk-container-id-1 div.sk-label label {font-family: monospace;font-weight: bold;display: inline-block;line-height: 1.2em;}#sk-container-id-1 div.sk-label-container {text-align: center;}#sk-container-id-1 div.sk-container {/* jupyter's `normalize.less` sets `[hidden] { display: none; }` but bootstrap.min.css set `[hidden] { display: none !important; }` so we also need the `!important` here to be able to override the default hidden behavior on the sphinx rendered scikit-learn.org. See: https://github.com/scikit-learn/scikit-learn/issues/21755 */display: inline-block !important;position: relative;}#sk-container-id-1 div.sk-text-repr-fallback {display: none;}</style><div id=\"sk-container-id-1\" class=\"sk-top-container\"><div class=\"sk-text-repr-fallback\"><pre>ColumnTransformer(transformers=[(&#x27;categoric&#x27;, &#x27;passthrough&#x27;, [&#x27;sex&#x27;]),\n",
       "                                (&#x27;categoric ordinal&#x27;, &#x27;passthrough&#x27;,\n",
       "                                 [&#x27;pclass&#x27;]),\n",
       "                                (&#x27;numeric&#x27;,\n",
       "                                 Pipeline(steps=[(&#x27;imputer&#x27;,\n",
       "                                                  SimpleImputer(strategy=&#x27;median&#x27;))]),\n",
       "                                 [&#x27;age&#x27;])])</pre><b>In a Jupyter environment, please rerun this cell to show the HTML representation or trust the notebook. <br />On GitHub, the HTML representation is unable to render, please try loading this page with nbviewer.org.</b></div><div class=\"sk-container\" hidden><div class=\"sk-item sk-dashed-wrapped\"><div class=\"sk-label-container\"><div class=\"sk-label sk-toggleable\"><input class=\"sk-toggleable__control sk-hidden--visually\" id=\"sk-estimator-id-1\" type=\"checkbox\" ><label for=\"sk-estimator-id-1\" class=\"sk-toggleable__label sk-toggleable__label-arrow\">ColumnTransformer</label><div class=\"sk-toggleable__content\"><pre>ColumnTransformer(transformers=[(&#x27;categoric&#x27;, &#x27;passthrough&#x27;, [&#x27;sex&#x27;]),\n",
       "                                (&#x27;categoric ordinal&#x27;, &#x27;passthrough&#x27;,\n",
       "                                 [&#x27;pclass&#x27;]),\n",
       "                                (&#x27;numeric&#x27;,\n",
       "                                 Pipeline(steps=[(&#x27;imputer&#x27;,\n",
       "                                                  SimpleImputer(strategy=&#x27;median&#x27;))]),\n",
       "                                 [&#x27;age&#x27;])])</pre></div></div></div><div class=\"sk-parallel\"><div class=\"sk-parallel-item\"><div class=\"sk-item\"><div class=\"sk-label-container\"><div class=\"sk-label sk-toggleable\"><input class=\"sk-toggleable__control sk-hidden--visually\" id=\"sk-estimator-id-2\" type=\"checkbox\" ><label for=\"sk-estimator-id-2\" class=\"sk-toggleable__label sk-toggleable__label-arrow\">categoric</label><div class=\"sk-toggleable__content\"><pre>[&#x27;sex&#x27;]</pre></div></div></div><div class=\"sk-serial\"><div class=\"sk-item\"><div class=\"sk-estimator sk-toggleable\"><input class=\"sk-toggleable__control sk-hidden--visually\" id=\"sk-estimator-id-3\" type=\"checkbox\" ><label for=\"sk-estimator-id-3\" class=\"sk-toggleable__label sk-toggleable__label-arrow\">passthrough</label><div class=\"sk-toggleable__content\"><pre>passthrough</pre></div></div></div></div></div></div><div class=\"sk-parallel-item\"><div class=\"sk-item\"><div class=\"sk-label-container\"><div class=\"sk-label sk-toggleable\"><input class=\"sk-toggleable__control sk-hidden--visually\" id=\"sk-estimator-id-4\" type=\"checkbox\" ><label for=\"sk-estimator-id-4\" class=\"sk-toggleable__label sk-toggleable__label-arrow\">categoric ordinal</label><div class=\"sk-toggleable__content\"><pre>[&#x27;pclass&#x27;]</pre></div></div></div><div class=\"sk-serial\"><div class=\"sk-item\"><div class=\"sk-estimator sk-toggleable\"><input class=\"sk-toggleable__control sk-hidden--visually\" id=\"sk-estimator-id-5\" type=\"checkbox\" ><label for=\"sk-estimator-id-5\" class=\"sk-toggleable__label sk-toggleable__label-arrow\">passthrough</label><div class=\"sk-toggleable__content\"><pre>passthrough</pre></div></div></div></div></div></div><div class=\"sk-parallel-item\"><div class=\"sk-item\"><div class=\"sk-label-container\"><div class=\"sk-label sk-toggleable\"><input class=\"sk-toggleable__control sk-hidden--visually\" id=\"sk-estimator-id-6\" type=\"checkbox\" ><label for=\"sk-estimator-id-6\" class=\"sk-toggleable__label sk-toggleable__label-arrow\">numeric</label><div class=\"sk-toggleable__content\"><pre>[&#x27;age&#x27;]</pre></div></div></div><div class=\"sk-serial\"><div class=\"sk-item\"><div class=\"sk-serial\"><div class=\"sk-item\"><div class=\"sk-estimator sk-toggleable\"><input class=\"sk-toggleable__control sk-hidden--visually\" id=\"sk-estimator-id-7\" type=\"checkbox\" ><label for=\"sk-estimator-id-7\" class=\"sk-toggleable__label sk-toggleable__label-arrow\">SimpleImputer</label><div class=\"sk-toggleable__content\"><pre>SimpleImputer(strategy=&#x27;median&#x27;)</pre></div></div></div></div></div></div></div></div></div></div></div></div>"
      ],
      "text/plain": [
       "ColumnTransformer(transformers=[('categoric', 'passthrough', ['sex']),\n",
       "                                ('categoric ordinal', 'passthrough',\n",
       "                                 ['pclass']),\n",
       "                                ('numeric',\n",
       "                                 Pipeline(steps=[('imputer',\n",
       "                                                  SimpleImputer(strategy='median'))]),\n",
       "                                 ['age'])])"
      ]
     },
     "execution_count": 12,
     "metadata": {},
     "output_type": "execute_result"
    }
   ],
   "source": [
    "preprocessor"
   ]
  },
  {
   "cell_type": "markdown",
   "metadata": {},
   "source": [
    "Example of the data preprocessing"
   ]
  },
  {
   "cell_type": "code",
   "execution_count": 13,
   "metadata": {},
   "outputs": [
    {
     "data": {
      "text/html": [
       "<div>\n",
       "<style scoped>\n",
       "    .dataframe tbody tr th:only-of-type {\n",
       "        vertical-align: middle;\n",
       "    }\n",
       "\n",
       "    .dataframe tbody tr th {\n",
       "        vertical-align: top;\n",
       "    }\n",
       "\n",
       "    .dataframe thead th {\n",
       "        text-align: right;\n",
       "    }\n",
       "</style>\n",
       "<table border=\"1\" class=\"dataframe\">\n",
       "  <thead>\n",
       "    <tr style=\"text-align: right;\">\n",
       "      <th></th>\n",
       "      <th>sex</th>\n",
       "      <th>pclass</th>\n",
       "      <th>age</th>\n",
       "    </tr>\n",
       "  </thead>\n",
       "  <tbody>\n",
       "    <tr>\n",
       "      <th>1148</th>\n",
       "      <td>male</td>\n",
       "      <td>3</td>\n",
       "      <td>35.0</td>\n",
       "    </tr>\n",
       "    <tr>\n",
       "      <th>1049</th>\n",
       "      <td>male</td>\n",
       "      <td>3</td>\n",
       "      <td>20.0</td>\n",
       "    </tr>\n",
       "    <tr>\n",
       "      <th>982</th>\n",
       "      <td>male</td>\n",
       "      <td>3</td>\n",
       "      <td>NaN</td>\n",
       "    </tr>\n",
       "    <tr>\n",
       "      <th>808</th>\n",
       "      <td>male</td>\n",
       "      <td>3</td>\n",
       "      <td>NaN</td>\n",
       "    </tr>\n",
       "    <tr>\n",
       "      <th>1195</th>\n",
       "      <td>male</td>\n",
       "      <td>3</td>\n",
       "      <td>NaN</td>\n",
       "    </tr>\n",
       "    <tr>\n",
       "      <th>240</th>\n",
       "      <td>male</td>\n",
       "      <td>1</td>\n",
       "      <td>45.0</td>\n",
       "    </tr>\n",
       "    <tr>\n",
       "      <th>1118</th>\n",
       "      <td>male</td>\n",
       "      <td>3</td>\n",
       "      <td>25.0</td>\n",
       "    </tr>\n",
       "    <tr>\n",
       "      <th>596</th>\n",
       "      <td>male</td>\n",
       "      <td>2</td>\n",
       "      <td>31.0</td>\n",
       "    </tr>\n",
       "    <tr>\n",
       "      <th>924</th>\n",
       "      <td>male</td>\n",
       "      <td>3</td>\n",
       "      <td>34.5</td>\n",
       "    </tr>\n",
       "    <tr>\n",
       "      <th>65</th>\n",
       "      <td>female</td>\n",
       "      <td>1</td>\n",
       "      <td>33.0</td>\n",
       "    </tr>\n",
       "  </tbody>\n",
       "</table>\n",
       "</div>"
      ],
      "text/plain": [
       "         sex  pclass   age\n",
       "1148    male       3  35.0\n",
       "1049    male       3  20.0\n",
       "982     male       3   NaN\n",
       "808     male       3   NaN\n",
       "1195    male       3   NaN\n",
       "240     male       1  45.0\n",
       "1118    male       3  25.0\n",
       "596     male       2  31.0\n",
       "924     male       3  34.5\n",
       "65    female       1  33.0"
      ]
     },
     "execution_count": 13,
     "metadata": {},
     "output_type": "execute_result"
    }
   ],
   "source": [
    "data_example = titanic_features.drop(columns=\"survived\").sample(10, random_state=42)\n",
    "data_example"
   ]
  },
  {
   "cell_type": "code",
   "execution_count": 14,
   "metadata": {},
   "outputs": [
    {
     "data": {
      "text/plain": [
       "array([['male', 3, 35.0],\n",
       "       ['male', 3, 20.0],\n",
       "       ['male', 3, 33.0],\n",
       "       ['male', 3, 33.0],\n",
       "       ['male', 3, 33.0],\n",
       "       ['male', 1, 45.0],\n",
       "       ['male', 3, 25.0],\n",
       "       ['male', 2, 31.0],\n",
       "       ['male', 3, 34.5],\n",
       "       ['female', 1, 33.0]], dtype=object)"
      ]
     },
     "execution_count": 14,
     "metadata": {},
     "output_type": "execute_result"
    }
   ],
   "source": [
    "preprocessor.fit_transform(data_example)"
   ]
  },
  {
   "cell_type": "markdown",
   "metadata": {},
   "source": [
    "The data input for the heuristic model is like the above example"
   ]
  },
  {
   "cell_type": "markdown",
   "metadata": {},
   "source": [
    "## Train / Test split"
   ]
  },
  {
   "cell_type": "code",
   "execution_count": 15,
   "metadata": {},
   "outputs": [],
   "source": [
    "X_features = titanic_features.drop(\"survived\", axis=\"columns\")\n",
    "Y_target = titanic_features[\"survived\"]\n",
    "\n",
    "# 80% train, 20% test\n",
    "x_train, x_test, y_train, y_test = train_test_split(\n",
    "    X_features, Y_target, test_size=0.2, stratify=Y_target\n",
    ")"
   ]
  },
  {
   "cell_type": "code",
   "execution_count": 16,
   "metadata": {},
   "outputs": [
    {
     "data": {
      "text/plain": [
       "((1047, 3), (1047,))"
      ]
     },
     "execution_count": 16,
     "metadata": {},
     "output_type": "execute_result"
    }
   ],
   "source": [
    "x_train.shape, y_train.shape"
   ]
  },
  {
   "cell_type": "code",
   "execution_count": 17,
   "metadata": {},
   "outputs": [
    {
     "data": {
      "text/plain": [
       "((262, 3), (262,))"
      ]
     },
     "execution_count": 17,
     "metadata": {},
     "output_type": "execute_result"
    }
   ],
   "source": [
    "x_test.shape, y_test.shape"
   ]
  },
  {
   "cell_type": "markdown",
   "metadata": {},
   "source": [
    "## Model"
   ]
  },
  {
   "cell_type": "code",
   "execution_count": 18,
   "metadata": {},
   "outputs": [],
   "source": [
    "class HeuristicModel(BaseEstimator, ClassifierMixin):\n",
    "    \"\"\"Heuristic model for Titanic dataset compatible with scikit-learn\"\"\"\n",
    "\n",
    "    def fit(self, X, y=None):\n",
    "        # Don't do anything\n",
    "        if y is not None:\n",
    "            self.classes_ = np.unique(y)\n",
    "        return self\n",
    "\n",
    "    def predict(self, X):\n",
    "        SEX = \"female\"\n",
    "        PCLASS_THRESHOLD = 3\n",
    "        AGE_THRESHOLD_1 = 5\n",
    "        AGE_THRESHOLD_2_LOW = 10\n",
    "        AGE_THRESHOLD_2_HIGH = 15\n",
    "        predictions = []\n",
    "        for input in X:\n",
    "            if (\n",
    "                (input[0] == SEX) & (input[1] < PCLASS_THRESHOLD)\n",
    "                or (input[2] <= AGE_THRESHOLD_1)\n",
    "                or (\n",
    "                    (input[2] >= AGE_THRESHOLD_2_LOW)\n",
    "                    & (input[2] <= AGE_THRESHOLD_2_HIGH)\n",
    "                )\n",
    "            ):\n",
    "                predictions.append(1)\n",
    "            else:\n",
    "                predictions.append(0)\n",
    "        return np.array(predictions)"
   ]
  },
  {
   "cell_type": "markdown",
   "metadata": {},
   "source": [
    "## Predict and Evaluation"
   ]
  },
  {
   "cell_type": "code",
   "execution_count": 19,
   "metadata": {},
   "outputs": [
    {
     "name": "stdout",
     "output_type": "stream",
     "text": [
      "accuracy - CV mean: 0.7965109890109889, CV std: 0.04109125938205496\n",
      "accuracy - Train score: 0.7965616045845272\n",
      "f1 - CV mean: 0.669680265704232, CV std: 0.06457666510160656\n",
      "f1 - Train score: 0.7965616045845272\n",
      "precision - CV mean: 0.8729100384317775, CV std: 0.062192465962973634\n",
      "precision - Train score: 0.7965616045845272\n",
      "recall - CV mean: 0.5455741214409946, CV std: 0.0714390800017646\n",
      "recall - Train score: 0.7965616045845272\n"
     ]
    },
    {
     "data": {
      "image/png": "[encoded data removed]",
      "text/plain": [
       "<Figure size 640x480 with 1 Axes>"
      ]
     },
     "metadata": {},
     "output_type": "display_data"
    }
   ],
   "source": [
    "# Model\n",
    "model = HeuristicModel()\n",
    "\n",
    "# Evaluation metrics\n",
    "scoring_metrics = [\"accuracy\", \"f1\", \"precision\", \"recall\"]\n",
    "\n",
    "# KFold for the cross-validation\n",
    "kfold = KFold(n_splits=10)\n",
    "\n",
    "# Model pipeline = preprocessor + model\n",
    "model_pipe = Pipeline(steps=[(\"preprocessor\", preprocessor), (\"model\", model)])\n",
    "\n",
    "# Variable to store the results of the cross-validation\n",
    "cv_results = {}\n",
    "train_results = {}\n",
    "\n",
    "# Cross-validation evaluation for each metric\n",
    "for metric in scoring_metrics:\n",
    "    cv_results[metric] = cross_val_score(\n",
    "        model_pipe, x_train, y_train, cv=kfold, scoring=metric\n",
    "    )\n",
    "    # Evaluate on the training set\n",
    "    model_pipe.fit(x_train, y_train)\n",
    "    train_results[metric] = model_pipe.score(x_train, y_train)\n",
    "\n",
    "# Convert results into a pandas DataFrame\n",
    "cv_results_df = pd.DataFrame(cv_results)\n",
    "\n",
    "# Print the mean and standard deviation for each metric\n",
    "for metric_name in scoring_metrics:\n",
    "    print(\n",
    "        f\"{metric_name} - CV mean: {cv_results_df[metric_name].mean()}, \"\n",
    "        f\"CV std: {cv_results_df[metric_name].std()}\"\n",
    "    )\n",
    "    print(f\"{metric_name} - Train score: {train_results[metric_name]}\")\n",
    "\n",
    "# Create a boxplot for the cross-validation results of each metric\n",
    "cv_results_df.plot.box(title=\"Cross Validation Boxplot\", ylabel=\"Score\");"
   ]
  },
  {
   "cell_type": "code",
   "execution_count": 20,
   "metadata": {},
   "outputs": [
    {
     "data": {
      "image/png": "[encoded data removed]",
      "text/plain": [
       "<Figure size 640x480 with 1 Axes>"
      ]
     },
     "metadata": {},
     "output_type": "display_data"
    }
   ],
   "source": [
    "# Create a DataFrame for the training and cross-validation metrics\n",
    "metrics_df = pd.DataFrame(\n",
    "    {\n",
    "        \"Metric\": scoring_metrics,\n",
    "        \"Train Score\": [train_results[metric] for metric in scoring_metrics],\n",
    "        \"CV Mean\": [cv_results_df[metric].mean() for metric in scoring_metrics],\n",
    "        \"CV Std\": [cv_results_df[metric].std() for metric in scoring_metrics],\n",
    "    }\n",
    ")\n",
    "\n",
    "# Create a bar plot for the training and cross-validation metrics\n",
    "metrics_df.plot(\n",
    "    kind=\"bar\",\n",
    "    x=\"Metric\",\n",
    "    y=[\"Train Score\", \"CV Mean\"],\n",
    "    yerr=\"CV Std\",\n",
    "    title=\"Training vs Cross-Validation Scores\",\n",
    "    ylabel=\"Score\",\n",
    "    capsize=4,\n",
    ");"
   ]
  },
  {
   "cell_type": "markdown",
   "metadata": {},
   "source": [
    " ### Analysis of the results of all metrics\n",
    " \n",
    "1. **Accuracy**:\n",
    "\n",
    "    - CV Mean: 0.7928571428571428\n",
    "    - CV Std: 0.05642933132927799\n",
    "    - Train Score: 0.792741165234002\n",
    "    - Interpretation: The accuracy on the training set is very close to the cross-validation mean accuracy, with a slight difference. The standard deviation indicates moderate variability in accuracy across different folds.\n",
    "\n",
    "2. **F1 Score:**\n",
    "\n",
    "    - CV Mean: 0.672259965602412\n",
    "    - CV Std: 0.08472310093970331\n",
    "    - Train Score: 0.792741165234002\n",
    "    - Interpretation: The F1 score on the training set is significantly higher than the cross-validation mean F1 score. The high standard deviation suggests considerable variability in the F1 score across different folds.\n",
    "\n",
    "3. **Precision**:\n",
    "\n",
    "    - CV Mean: 0.8483034947457538\n",
    "    - CV Std: 0.07901968288730099\n",
    "    - Train Score: 0.792741165234002\n",
    "    - Interpretation: The precision on the training set is lower than the cross-validation mean precision. The standard deviation indicates moderate variability in precision across different folds.\n",
    "\n",
    "4. **Recall**:\n",
    "\n",
    "    - CV Mean: 0.5601543135490643\n",
    "    - CV Std: 0.0887461096456135\n",
    "    - Train Score: 0.792741165234002\n",
    "    - Interpretation: The recall on the training set is significantly higher than the cross-validation mean recall. The high standard deviation suggests considerable variability in recall across different folds.\n"
   ]
  },
  {
   "cell_type": "markdown",
   "metadata": {},
   "source": [
    "## Final Evaluation"
   ]
  },
  {
   "cell_type": "code",
   "execution_count": 21,
   "metadata": {},
   "outputs": [],
   "source": [
    "from sklearn.metrics import (\n",
    "    ConfusionMatrixDisplay,\n",
    "    PrecisionRecallDisplay,\n",
    "    classification_report,\n",
    ")"
   ]
  },
  {
   "cell_type": "code",
   "execution_count": 22,
   "metadata": {},
   "outputs": [
    {
     "name": "stdout",
     "output_type": "stream",
     "text": [
      "              precision    recall  f1-score   support\n",
      "\n",
      "           0       0.75      0.88      0.81       162\n",
      "           1       0.73      0.53      0.61       100\n",
      "\n",
      "    accuracy                           0.74       262\n",
      "   macro avg       0.74      0.70      0.71       262\n",
      "weighted avg       0.74      0.74      0.73       262\n",
      "\n"
     ]
    }
   ],
   "source": [
    "y_pred = model_pipe.predict(x_test)\n",
    "print(classification_report(y_test, y_pred))"
   ]
  },
  {
   "cell_type": "code",
   "execution_count": 23,
   "metadata": {},
   "outputs": [
    {
     "data": {
      "image/png": "[encoded data removed]",
      "text/plain": [
       "<Figure size 640x480 with 2 Axes>"
      ]
     },
     "metadata": {},
     "output_type": "display_data"
    }
   ],
   "source": [
    "ConfusionMatrixDisplay.from_predictions(y_test, y_pred);"
   ]
  },
  {
   "cell_type": "code",
   "execution_count": 24,
   "metadata": {},
   "outputs": [
    {
     "data": {
      "image/png": "[encoded data removed]",
      "text/plain": [
       "<Figure size 640x480 with 1 Axes>"
      ]
     },
     "metadata": {},
     "output_type": "display_data"
    }
   ],
   "source": [
    "PrecisionRecallDisplay.from_predictions(y_test, y_pred);"
   ]
  },
  {
   "cell_type": "markdown",
   "metadata": {},
   "source": [
    "### Only one Metric (Recall)\n",
    "\n",
    "The  Recall (Sensitivity or True Positive Rate) metric is chosen for this model because it is more important to identify all positive cases (survivors) in order to take appropriate actions.\n",
    "\n",
    "The objetive of this model is to identify all the survivors with out missing any of them, hypothetically the model is going to be used to take actions to save the passengers, so the recall metric is the most important metric for this model.\n",
    "\n",
    "Recall is important because it Measures the model's ability to correctly identify passengers who survived. It is crucial in situations where it is more important to identify all positive cases (survivors) in order to take appropriate actions, and it is not as important to identify negative cases (non-survivors). The False Negative (FN) is the most important error in this case.\n",
    "\n",
    "\n"
   ]
  },
  {
   "cell_type": "code",
   "execution_count": 25,
   "metadata": {},
   "outputs": [
    {
     "data": {
      "image/png": "[encoded data removed]",
      "text/plain": [
       "<Figure size 1000x600 with 1 Axes>"
      ]
     },
     "metadata": {},
     "output_type": "display_data"
    },
    {
     "name": "stdout",
     "output_type": "stream",
     "text": [
      "Training Sizes: [ 83 272 460 648 837]\n",
      "Training Scores Mean: [0.54509278 0.54261765 0.54256109 0.54208533 0.54453002]\n",
      "Training Scores Std: [0.07905815 0.04360966 0.02613436 0.01882922 0.01140582]\n",
      "Test Scores Mean: [0.55962829 0.55962829 0.55962829 0.55962829 0.55962829]\n",
      "Test Scores Std: [0.04589904 0.04589904 0.04589904 0.04589904 0.04589904]\n"
     ]
    }
   ],
   "source": [
    "# Define pipeline = preprocessor + model\n",
    "model = HeuristicModel()\n",
    "model_pipe = Pipeline(steps=[(\"preprocessor\", preprocessor), (\"model\", model)])\n",
    "\n",
    "# Parameters for the learning curve\n",
    "common_params = {\n",
    "    \"X\": x_train,\n",
    "    \"y\": y_train,\n",
    "    \"train_sizes\": np.linspace(0.1, 1.0, 5),\n",
    "    \"cv\": ShuffleSplit(n_splits=50, test_size=0.2, random_state=123),\n",
    "    \"n_jobs\": -1,\n",
    "    \"return_times\": True,\n",
    "}\n",
    "\n",
    "scoring_metric = \"recall\"\n",
    "\n",
    "# Obtain the learning curve values including fit and score times\n",
    "train_sizes, train_scores, test_scores, fit_times, score_times = learning_curve(\n",
    "    model_pipe, **common_params, scoring=scoring_metric\n",
    ")\n",
    "\n",
    "# Calculate the mean and standard deviation of the scores\n",
    "train_mean = np.mean(train_scores, axis=1)\n",
    "train_std = np.std(train_scores, axis=1)\n",
    "test_mean = np.mean(test_scores, axis=1)\n",
    "test_std = np.std(test_scores, axis=1)\n",
    "\n",
    "# Calculate the mean and standard deviation of the fit and score times\n",
    "fit_times_mean = np.mean(fit_times, axis=1)\n",
    "fit_times_std = np.std(fit_times, axis=1)\n",
    "score_times_mean = np.mean(score_times, axis=1)\n",
    "score_times_std = np.std(score_times, axis=1)\n",
    "\n",
    "# Plot the learning curve\n",
    "fig, ax = plt.subplots(nrows=1, ncols=1, figsize=(10, 6), sharey=True)\n",
    "ax.plot(train_sizes, train_mean, \"o-\", label=\"Training score\")\n",
    "ax.plot(train_sizes, test_mean, \"o-\", color=\"orange\", label=\"Cross-validation score\")\n",
    "ax.fill_between(train_sizes, train_mean - train_std, train_mean + train_std, alpha=0.3)\n",
    "ax.fill_between(\n",
    "    train_sizes, test_mean - test_std, test_mean + test_std, alpha=0.3, color=\"orange\"\n",
    ")\n",
    "\n",
    "# Configure the title and labels\n",
    "ax.set_title(f\"Learning Curve for {model.__class__.__name__}\")\n",
    "ax.set_xlabel(\"Training examples\")\n",
    "ax.set_ylabel(scoring_metric)\n",
    "ax.legend(loc=\"best\")\n",
    "\n",
    "# Show the plot\n",
    "plt.show()\n",
    "\n",
    "# Print the values for analysis\n",
    "print(\"Training Sizes:\", train_sizes)\n",
    "print(\"Training Scores Mean:\", train_mean)\n",
    "print(\"Training Scores Std:\", train_std)\n",
    "print(\"Test Scores Mean:\", test_mean)\n",
    "print(\"Test Scores Std:\", test_std)"
   ]
  },
  {
   "cell_type": "code",
   "execution_count": 26,
   "metadata": {},
   "outputs": [
    {
     "data": {
      "image/png": "[encoded data removed]",
      "text/plain": [
       "<Figure size 1000x1200 with 2 Axes>"
      ]
     },
     "metadata": {},
     "output_type": "display_data"
    },
    {
     "name": "stdout",
     "output_type": "stream",
     "text": [
      "Fit Times Mean: [0.00318594 0.00267915 0.00320716 0.00353565 0.00375845]\n",
      "Fit Times Std: [0.00188469 0.0014394  0.00186148 0.00196348 0.00323633]\n",
      "Score Times Mean: [0.0021701  0.00212258 0.00253751 0.0024822  0.00206826]\n",
      "Score Times Std: [0.0025634  0.00201031 0.00223424 0.00315579 0.00167434]\n"
     ]
    }
   ],
   "source": [
    "# Plot the scalability regarding fit time and score time\n",
    "fig, ax = plt.subplots(nrows=2, ncols=1, figsize=(10, 12), sharex=True)\n",
    "\n",
    "# Scalability regarding the fit time\n",
    "ax[0].plot(train_sizes, fit_times_mean, \"o-\")\n",
    "ax[0].fill_between(\n",
    "    train_sizes,\n",
    "    fit_times_mean - fit_times_std,\n",
    "    fit_times_mean + fit_times_std,\n",
    "    alpha=0.3,\n",
    ")\n",
    "ax[0].set_ylabel(\"Fit time (s)\")\n",
    "ax[0].set_title(f\"Scalability of the {model.__class__.__name__} classifier\")\n",
    "\n",
    "# Scalability regarding the score time\n",
    "ax[1].plot(train_sizes, score_times_mean, \"o-\")\n",
    "ax[1].fill_between(\n",
    "    train_sizes,\n",
    "    score_times_mean - score_times_std,\n",
    "    score_times_mean + score_times_std,\n",
    "    alpha=0.3,\n",
    ")\n",
    "ax[1].set_ylabel(\"Score time (s)\")\n",
    "ax[1].set_xlabel(\"Number of training samples\")\n",
    "\n",
    "# Show the plot\n",
    "plt.show()\n",
    "\n",
    "# Print the fit and score times for analysis\n",
    "print(\"Fit Times Mean:\", fit_times_mean)\n",
    "print(\"Fit Times Std:\", fit_times_std)\n",
    "print(\"Score Times Mean:\", score_times_mean)\n",
    "print(\"Score Times Std:\", score_times_std)"
   ]
  },
  {
   "cell_type": "markdown",
   "metadata": {},
   "source": [
    "### Interpretation of the Learning Curve based on **Recall** only:\n",
    "\n",
    "\n"
   ]
  },
  {
   "cell_type": "markdown",
   "metadata": {
    "pycharm": {
     "name": "#%% md\n"
    }
   },
   "source": [
    "## 📊 Analysis of Results based on Recall only\n",
    "\n",
    "### Training Scores:\n",
    "- **Mean**: [0.5512, 0.5316, 0.5346, 0.5309, 0.5300]\n",
    "- **Standard Deviation**: [0.0985, 0.0403, 0.0274, 0.0218, 0.0132]\n",
    "- **Interpretation**: \n",
    "  - The training recall score starts at 0.5512 and slightly decreases to 0.5300 as more data is added.\n",
    "  - The standard deviation decreases as the training size increases, indicating that the model's performance on the training set becomes more consistent with more data.\n",
    "\n",
    "### Test Scores:\n",
    "- **Mean**: [0.5316, 0.5316, 0.5316, 0.5316, 0.5316]\n",
    "- **Standard Deviation**: [0.0544, 0.0544, 0.0544, 0.0544, 0.0544]\n",
    "- **Interpretation**: \n",
    "  - The test recall score is stable at 0.5316 across all training sizes.\n",
    "  - The constant standard deviation suggests that the model's performance on the test set is consistently stable across different folds of the cross-validation.\n",
    "\n",
    "### Fit Times:\n",
    "- **Mean**: [0.0112, 0.0111, 0.0110, 0.0114, 0.0116]\n",
    "- **Standard Deviation**: [0.0020, 0.0030, 0.0020, 0.0024, 0.0025]\n",
    "- **Interpretation**: \n",
    "  - The fit times are relatively low and stable, with a slight increase as the training size increases.\n",
    "  - The standard deviation is also low, indicating consistent fit times across different folds.\n",
    "\n",
    "### Score Times:\n",
    "- **Mean**: [0.0087, 0.0091, 0.0088, 0.0090, 0.0087]\n",
    "- **Standard Deviation**: [0.0025, 0.0015, 0.0014, 0.0016, 0.0015]\n",
    "- **Interpretation**: \n",
    "  - The score times are low and stable, with minimal variation as the training size increases.\n",
    "  - The low standard deviation indicates consistent score times across different folds."
   ]
  },
  {
   "cell_type": "markdown",
   "metadata": {},
   "source": [
    "## 📈 Conclusions\n",
    "\n",
    "### General results:\n",
    "\n",
    "- **Model Performance**:\n",
    "  - The training and test recall scores are stable, indicating that the model performs consistently well on both the training and test sets.\n",
    "  - The minimal difference between the training and test scores suggests that the model generalizes well to unseen data and is not overfitting.\n",
    "- **Consistency**:\n",
    "  - The decreasing standard deviation of the training scores with more data suggests that the model's performance on the training set becomes more stable and reliable with more data.\n",
    "  - The constant standard deviation of the test scores indicates that the model's performance on the test set is consistently stable across different folds.\n",
    "- **Scalability**:\n",
    "  - The fit and score times are low and stable, indicating that the model is computationally efficient and scales well with increasing training sizes.\n"
   ]
  },
  {
   "cell_type": "markdown",
   "metadata": {},
   "source": [
    "## 🧑‍🔬 Recommendations:\n",
    "\n",
    "1. **Continue with Current Model**: Given the good generalization and stable performance, is factible to continue using the current model configuration.\n",
    "   \n",
    "2. **Monitor Performance**: Keep monitoring the model's performance with new data to ensure it continues to generalize well.\n",
    "   \n",
    "3. **Consider Further Improvements**: While the current model performs well, you can still explore additional feature engineering, hyperparameter tuning, and regularization techniques to further enhance the model's performance."
   ]
  },
  {
   "cell_type": "markdown",
   "metadata": {
    "pycharm": {
     "name": "#%% md\n"
    }
   },
   "source": [
    "## 💡 Proposals and Ideas\n",
    "\n",
    "1. **Using More Complex Models**:\n",
    "   - **Proposal**: Experiment with more complex models such as Random Forests, Gradient Boosting Machines, like xgboost.\n",
    "   - **Rationale**: More complex models can capture more intricate patterns in the data, potentially improving performance. However, they may also require more computational resources and careful tuning to avoid overfitting.\n",
    "\n",
    "2. **Using More Columns (Features)**:\n",
    "   - **Proposal**: Incorporate additional features into the model, more columns from the original dataset in order to improve the model's predictive power.\n",
    "   - **Rationale**: More features can provide the model with more information, potentially improving its ability to make accurate predictions. Feature selection techniques can be used to identify the most relevant features and avoid overfitting.\n",
    "\n",
    "3. **Feature Engineering**:\n",
    "   - **Proposal**: Perform feature engineering to create new features from the existing ones. For example, combining features, extracting date-related features, or using domain knowledge to create meaningful features.\n",
    "   - **Rationale**: Feature engineering can help the model capture important patterns in the data that are not immediately apparent from the raw features.\n",
    "\n",
    "4. **Hyperparameter Tuning**:\n",
    "   - **Proposal**: Use techniques such as Grid Search or Random Search to find the optimal hyperparameters for the model.\n",
    "   - **Rationale**: Proper hyperparameter tuning can significantly improve the model's performance by finding the best settings for the learning algorithm.\n",
    "\n",
    "5. **Cross-Validation**:\n",
    "   - **Proposal**: Continue using cross-validation to evaluate the model's performance and ensure that it generalizes well to unseen data.\n",
    "   - **Rationale**: Cross-validation provides a robust estimate of the model's performance and helps detect overfitting.\n",
    "\n",
    "6. **Regularization**:\n",
    "   - **Proposal**: Apply regularization techniques such as L1 or L2 regularization to prevent overfitting.\n",
    "   - **Rationale**: Regularization can help the model generalize better by penalizing large coefficients and reducing the complexity of the model.\n",
    "\n",
    "By addressing these proposals and ideas, can be improve the model's ability to generalize to new data and achieve a better balance between precision and recall.\n"
   ]
  },
  {
   "cell_type": "markdown",
   "metadata": {},
   "source": [
    "## 📖 References"
   ]
  },
  {
   "cell_type": "markdown",
   "metadata": {},
   "source": [
    "- <https://joserzapata.github.io/courses/python-ciencia-datos/ml/>\n",
    "- <https://joserzapata.github.io/courses/python-ciencia-datos/clasificacion/>\n",
    "- Hands-On Machine Learning with Scikit-Learn, Keras, and TensorFlow: Concepts, Tools, and Techniques to Build Intelligent Systems 2nd Edition - Aurélien Géron\n",
    "- <https://joserzapata.github.io/post/lista-proyecto-machine-learning/>"
   ]
  }
 ],
 "metadata": {
  "kernelspec": {
   "display_name": ".venv",
   "language": "python",
   "name": "python3"
  },
  "language_info": {
   "codemirror_mode": {
    "name": "ipython",
    "version": 3
   },
   "file_extension": ".py",
   "mimetype": "text/x-python",
   "name": "python",
   "nbconvert_exporter": "python",
   "pygments_lexer": "ipython3",
   "version": "3.11.10"
  }
 },
 "nbformat": 4,
 "nbformat_minor": 4
}
