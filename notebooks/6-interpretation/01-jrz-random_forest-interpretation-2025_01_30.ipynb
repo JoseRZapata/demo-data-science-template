{
 "cells": [
  {
   "cell_type": "markdown",
   "metadata": {},
   "source": [
    "## Model Interpretation\n",
    "\n",
    "### By:\n",
    "[Jose R. Zapata](https://joserzapata.github.io/)\n",
    "\n",
    "### Date:\n",
    "2025-01-30\n",
    "\n",
    "### Description:\n",
    "\n",
    "Interpretation of the model trained in the previous step. The goal is to understand the model's behavior and how it is making predictions.\n",
    "\n",
    "<https://github.com/JoseRZapata/demo-data-science-template/blob/main/notebooks/5-models/02-jrz-basic_algorithms_model_selection-2024_11_02.ipynb>"
   ]
  },
  {
   "cell_type": "markdown",
   "metadata": {
    "pycharm": {
     "name": "#%% md\n"
    }
   },
   "source": [
    "## 📚 Import  libraries"
   ]
  },
  {
   "cell_type": "code",
   "execution_count": 22,
   "metadata": {
    "collapsed": false,
    "pycharm": {
     "name": "#%%\n"
    }
   },
   "outputs": [],
   "source": [
    "# base libraries for data science\n",
    "\n",
    "from pathlib import Path\n",
    "\n",
    "import matplotlib.pyplot as plt\n",
    "import numpy as np\n",
    "import pandas as pd\n",
    "from joblib import load\n",
    "from sklearn.inspection import permutation_importance\n",
    "from sklearn.model_selection import train_test_split"
   ]
  },
  {
   "cell_type": "markdown",
   "metadata": {
    "pycharm": {
     "name": "#%% md\n"
    }
   },
   "source": [
    "## 💾 Load model"
   ]
  },
  {
   "cell_type": "code",
   "execution_count": 23,
   "metadata": {
    "collapsed": false,
    "pycharm": {
     "name": "#%%\n"
    }
   },
   "outputs": [],
   "source": [
    "DATA_MODEL = Path.cwd().resolve().parents[1] / \"models\"\n",
    "\n",
    "titanic_model = load(DATA_MODEL / \"titanic_classification-random_forest-v1.joblib\")"
   ]
  },
  {
   "cell_type": "code",
   "execution_count": 24,
   "metadata": {},
   "outputs": [
    {
     "name": "stdout",
     "output_type": "stream",
     "text": [
      "Pandas version:  2.2.3\n"
     ]
    }
   ],
   "source": [
    "# print library version for reproducibility\n",
    "\n",
    "print(\"Pandas version: \", pd.__version__)"
   ]
  },
  {
   "cell_type": "markdown",
   "metadata": {},
   "source": [
    "## Model Interpretation\n",
    "\n",
    "### Feature Importance\n",
    "Random forest as a method to get feature importance. This method is computed as the mean and standard deviation of accumulation of the impurity decrease within each tree.. The more a feature decreases the impurity, the more important it is considered."
   ]
  },
  {
   "cell_type": "code",
   "execution_count": 25,
   "metadata": {},
   "outputs": [
    {
     "data": {
      "text/html": [
       "<div>\n",
       "<style scoped>\n",
       "    .dataframe tbody tr th:only-of-type {\n",
       "        vertical-align: middle;\n",
       "    }\n",
       "\n",
       "    .dataframe tbody tr th {\n",
       "        vertical-align: top;\n",
       "    }\n",
       "\n",
       "    .dataframe thead th {\n",
       "        text-align: right;\n",
       "    }\n",
       "</style>\n",
       "<table border=\"1\" class=\"dataframe\">\n",
       "  <thead>\n",
       "    <tr style=\"text-align: right;\">\n",
       "      <th></th>\n",
       "      <th>Features</th>\n",
       "      <th>Importances</th>\n",
       "    </tr>\n",
       "  </thead>\n",
       "  <tbody>\n",
       "    <tr>\n",
       "      <th>5</th>\n",
       "      <td>categoric__sex_male</td>\n",
       "      <td>0.281052</td>\n",
       "    </tr>\n",
       "    <tr>\n",
       "      <th>4</th>\n",
       "      <td>categoric__sex_female</td>\n",
       "      <td>0.263076</td>\n",
       "    </tr>\n",
       "    <tr>\n",
       "      <th>9</th>\n",
       "      <td>categoric ordinal__pclass</td>\n",
       "      <td>0.168484</td>\n",
       "    </tr>\n",
       "    <tr>\n",
       "      <th>1</th>\n",
       "      <td>numeric__fare</td>\n",
       "      <td>0.111280</td>\n",
       "    </tr>\n",
       "    <tr>\n",
       "      <th>0</th>\n",
       "      <td>numeric__age</td>\n",
       "      <td>0.093817</td>\n",
       "    </tr>\n",
       "    <tr>\n",
       "      <th>2</th>\n",
       "      <td>numeric__sibsp</td>\n",
       "      <td>0.028429</td>\n",
       "    </tr>\n",
       "    <tr>\n",
       "      <th>3</th>\n",
       "      <td>numeric__parch</td>\n",
       "      <td>0.026425</td>\n",
       "    </tr>\n",
       "    <tr>\n",
       "      <th>6</th>\n",
       "      <td>categoric__embarked_C</td>\n",
       "      <td>0.015069</td>\n",
       "    </tr>\n",
       "    <tr>\n",
       "      <th>8</th>\n",
       "      <td>categoric__embarked_S</td>\n",
       "      <td>0.007535</td>\n",
       "    </tr>\n",
       "    <tr>\n",
       "      <th>7</th>\n",
       "      <td>categoric__embarked_Q</td>\n",
       "      <td>0.004832</td>\n",
       "    </tr>\n",
       "  </tbody>\n",
       "</table>\n",
       "</div>"
      ],
      "text/plain": [
       "                    Features  Importances\n",
       "5        categoric__sex_male     0.281052\n",
       "4      categoric__sex_female     0.263076\n",
       "9  categoric ordinal__pclass     0.168484\n",
       "1              numeric__fare     0.111280\n",
       "0               numeric__age     0.093817\n",
       "2             numeric__sibsp     0.028429\n",
       "3             numeric__parch     0.026425\n",
       "6      categoric__embarked_C     0.015069\n",
       "8      categoric__embarked_S     0.007535\n",
       "7      categoric__embarked_Q     0.004832"
      ]
     },
     "execution_count": 25,
     "metadata": {},
     "output_type": "execute_result"
    }
   ],
   "source": [
    "features = titanic_model[\"preprocessor\"].get_feature_names_out()\n",
    "importances = titanic_model[\"model\"].feature_importances_\n",
    "\n",
    "dfFeatures = pd.DataFrame({\"Features\": features, \"Importances\": importances})\n",
    "dfFeatures.sort_values(by=\"Importances\", ascending=False)"
   ]
  },
  {
   "cell_type": "code",
   "execution_count": 26,
   "metadata": {},
   "outputs": [
    {
     "data": {
      "text/plain": [
       "array([0.09381687, 0.11127966, 0.02842946, 0.02642524, 0.26307643,\n",
       "       0.28105184, 0.01506934, 0.0048317 , 0.00753499, 0.16848448])"
      ]
     },
     "execution_count": 26,
     "metadata": {},
     "output_type": "execute_result"
    }
   ],
   "source": [
    "titanic_model.named_steps[\"model\"].feature_importances_"
   ]
  },
  {
   "cell_type": "code",
   "execution_count": 27,
   "metadata": {},
   "outputs": [
    {
     "data": {
      "text/html": [
       "<div>\n",
       "<style scoped>\n",
       "    .dataframe tbody tr th:only-of-type {\n",
       "        vertical-align: middle;\n",
       "    }\n",
       "\n",
       "    .dataframe tbody tr th {\n",
       "        vertical-align: top;\n",
       "    }\n",
       "\n",
       "    .dataframe thead th {\n",
       "        text-align: right;\n",
       "    }\n",
       "</style>\n",
       "<table border=\"1\" class=\"dataframe\">\n",
       "  <thead>\n",
       "    <tr style=\"text-align: right;\">\n",
       "      <th></th>\n",
       "      <th>Features</th>\n",
       "      <th>Importances</th>\n",
       "      <th>std</th>\n",
       "    </tr>\n",
       "  </thead>\n",
       "  <tbody>\n",
       "    <tr>\n",
       "      <th>0</th>\n",
       "      <td>numeric__age</td>\n",
       "      <td>0.093817</td>\n",
       "      <td>0.047078</td>\n",
       "    </tr>\n",
       "    <tr>\n",
       "      <th>1</th>\n",
       "      <td>numeric__fare</td>\n",
       "      <td>0.111280</td>\n",
       "      <td>0.068099</td>\n",
       "    </tr>\n",
       "    <tr>\n",
       "      <th>2</th>\n",
       "      <td>numeric__sibsp</td>\n",
       "      <td>0.028429</td>\n",
       "      <td>0.026219</td>\n",
       "    </tr>\n",
       "    <tr>\n",
       "      <th>3</th>\n",
       "      <td>numeric__parch</td>\n",
       "      <td>0.026425</td>\n",
       "      <td>0.027533</td>\n",
       "    </tr>\n",
       "    <tr>\n",
       "      <th>4</th>\n",
       "      <td>categoric__sex_female</td>\n",
       "      <td>0.263076</td>\n",
       "      <td>0.263597</td>\n",
       "    </tr>\n",
       "    <tr>\n",
       "      <th>5</th>\n",
       "      <td>categoric__sex_male</td>\n",
       "      <td>0.281052</td>\n",
       "      <td>0.262374</td>\n",
       "    </tr>\n",
       "    <tr>\n",
       "      <th>6</th>\n",
       "      <td>categoric__embarked_C</td>\n",
       "      <td>0.015069</td>\n",
       "      <td>0.021990</td>\n",
       "    </tr>\n",
       "    <tr>\n",
       "      <th>7</th>\n",
       "      <td>categoric__embarked_Q</td>\n",
       "      <td>0.004832</td>\n",
       "      <td>0.011320</td>\n",
       "    </tr>\n",
       "    <tr>\n",
       "      <th>8</th>\n",
       "      <td>categoric__embarked_S</td>\n",
       "      <td>0.007535</td>\n",
       "      <td>0.013045</td>\n",
       "    </tr>\n",
       "    <tr>\n",
       "      <th>9</th>\n",
       "      <td>categoric ordinal__pclass</td>\n",
       "      <td>0.168484</td>\n",
       "      <td>0.083930</td>\n",
       "    </tr>\n",
       "  </tbody>\n",
       "</table>\n",
       "</div>"
      ],
      "text/plain": [
       "                    Features  Importances       std\n",
       "0               numeric__age     0.093817  0.047078\n",
       "1              numeric__fare     0.111280  0.068099\n",
       "2             numeric__sibsp     0.028429  0.026219\n",
       "3             numeric__parch     0.026425  0.027533\n",
       "4      categoric__sex_female     0.263076  0.263597\n",
       "5        categoric__sex_male     0.281052  0.262374\n",
       "6      categoric__embarked_C     0.015069  0.021990\n",
       "7      categoric__embarked_Q     0.004832  0.011320\n",
       "8      categoric__embarked_S     0.007535  0.013045\n",
       "9  categoric ordinal__pclass     0.168484  0.083930"
      ]
     },
     "execution_count": 27,
     "metadata": {},
     "output_type": "execute_result"
    }
   ],
   "source": [
    "std = np.std([tree.feature_importances_ for tree in titanic_model[\"model\"].estimators_], axis=0)\n",
    "\n",
    "dfFeatures[\"std\"] = std\n",
    "dfFeatures"
   ]
  },
  {
   "cell_type": "code",
   "execution_count": 28,
   "metadata": {},
   "outputs": [
    {
     "data": {
      "image/png": "[encoded data removed]",
      "text/plain": [
       "<Figure size 1200x400 with 1 Axes>"
      ]
     },
     "metadata": {},
     "output_type": "display_data"
    }
   ],
   "source": [
    "# Crear el bar plot\n",
    "plt.figure(figsize=(12, 4))\n",
    "plt.bar(\n",
    "    dfFeatures[\"Features\"],\n",
    "    dfFeatures[\"Importances\"],\n",
    "    yerr=dfFeatures[\"std\"],\n",
    "    capsize=5,\n",
    "    edgecolor=\"black\",\n",
    ")\n",
    "\n",
    "# Añadir etiquetas y título\n",
    "plt.xlabel(\"Features\")\n",
    "plt.ylabel(\"Importances\")\n",
    "plt.title(\"Feature Importances using MDI\")\n",
    "plt.xticks(rotation=45);"
   ]
  },
  {
   "cell_type": "markdown",
   "metadata": {},
   "source": [
    "###  Feature permutation\n",
    "\n",
    "#### 💾 Load data"
   ]
  },
  {
   "cell_type": "code",
   "execution_count": 29,
   "metadata": {},
   "outputs": [],
   "source": [
    "DATA_DIR = Path.cwd().resolve().parents[1] / \"data\"\n",
    "\n",
    "titanic_df = pd.read_parquet(\n",
    "    DATA_DIR / \"02_intermediate/titanic_type_fixed.parquet\", engine=\"pyarrow\"\n",
    ")\n",
    "\n",
    "selected_features = [\n",
    "    \"pclass\",\n",
    "    \"sex\",\n",
    "    \"age\",\n",
    "    \"sibsp\",\n",
    "    \"parch\",\n",
    "    \"fare\",\n",
    "    \"embarked\",\n",
    "    \"survived\",\n",
    "]\n",
    "\n",
    "titanic_features = titanic_df[selected_features]\n",
    "titanic_features.loc[:, \"survived\"] = titanic_features[\"survived\"].astype(bool)\n",
    "titanic_features = titanic_features.drop_duplicates()"
   ]
  },
  {
   "cell_type": "code",
   "execution_count": 30,
   "metadata": {},
   "outputs": [],
   "source": [
    "X_features = titanic_features.drop(\"survived\", axis=\"columns\")\n",
    "Y_target = titanic_features[\"survived\"]\n",
    "\n",
    "# 80% train, 20% test\n",
    "x_train, x_test, y_train, y_test = train_test_split(\n",
    "    X_features, Y_target, test_size=0.2, stratify=Y_target\n",
    ")"
   ]
  },
  {
   "cell_type": "code",
   "execution_count": 31,
   "metadata": {},
   "outputs": [],
   "source": [
    "imps = permutation_importance(\n",
    "    titanic_model, x_test, y_test, scoring=\"recall\", n_repeats=10, random_state=42, n_jobs=8\n",
    ")"
   ]
  },
  {
   "cell_type": "code",
   "execution_count": 32,
   "metadata": {},
   "outputs": [
    {
     "data": {
      "image/png": "[encoded data removed]",
      "text/plain": [
       "<Figure size 1000x800 with 1 Axes>"
      ]
     },
     "metadata": {},
     "output_type": "display_data"
    }
   ],
   "source": [
    "fig = plt.figure(figsize=(10, 8))\n",
    "perm_sorted_idx = imps.importances_mean.argsort()\n",
    "plt.boxplot(\n",
    "    imps.importances[perm_sorted_idx].T, vert=False, tick_labels=x_test.columns[perm_sorted_idx]\n",
    ")\n",
    "plt.title(\"Permutation Importances (test set)\");"
   ]
  },
  {
   "cell_type": "markdown",
   "metadata": {},
   "source": [
    "Variables with more predictive power will have a higher impact on the model's performance when permuted.Based on the results, the most important features are:\n",
    "- Sex\n",
    "- Pclass\n",
    "\n",
    "With moderate importance:\n",
    "- Age\n",
    "- Fare\n",
    "\n",
    "The results are consistent with the feature analysis."
   ]
  },
  {
   "cell_type": "markdown",
   "metadata": {
    "pycharm": {
     "name": "#%% md\n"
    }
   },
   "source": [
    "## 📊 Analysis of Results"
   ]
  },
  {
   "cell_type": "markdown",
   "metadata": {},
   "source": [
    "The analysis of feature importances reveals that gender (both male and female) is the most significant predictor in the model, followed by passenger class and fare. Age, port of embarkation, and the number of family members aboard also contribute to the model's predictions, but to a lesser extent. Understanding these feature importances helps in interpreting the model's decision-making process and provides insights into the factors that most influence the target variable."
   ]
  },
  {
   "cell_type": "markdown",
   "metadata": {},
   "source": [
    "## 📖 References"
   ]
  },
  {
   "cell_type": "markdown",
   "metadata": {},
   "source": [
    "- <https://joserzapata.github.io/courses/python-ciencia-datos/ml/>\n",
    "- <https://joserzapata.github.io/courses/python-ciencia-datos/clasificacion/>\n",
    "- Hands-On Machine Learning with Scikit-Learn, Keras, and TensorFlow: Concepts, Tools, and Techniques to Build Intelligent Systems 2nd Edition - Aurélien Géron\n",
    "- <https://joserzapata.github.io/post/lista-proyecto-machine-learning/>"
   ]
  }
 ],
 "metadata": {
  "kernelspec": {
   "display_name": ".venv",
   "language": "python",
   "name": "python3"
  },
  "language_info": {
   "codemirror_mode": {
    "name": "ipython",
    "version": 3
   },
   "file_extension": ".py",
   "mimetype": "text/x-python",
   "name": "python",
   "nbconvert_exporter": "python",
   "pygments_lexer": "ipython3",
   "version": "3.11.11"
  }
 },
 "nbformat": 4,
 "nbformat_minor": 4
}
