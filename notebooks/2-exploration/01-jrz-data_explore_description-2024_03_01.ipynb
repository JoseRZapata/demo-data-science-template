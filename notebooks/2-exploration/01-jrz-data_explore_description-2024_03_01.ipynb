{
 "cells": [
  {
   "cell_type": "markdown",
   "metadata": {},
   "source": [
    "## Data explore and description\n",
    "\n",
    "### By:\n",
    "Jose R. Zapata\n",
    "\n",
    "### Date:\n",
    "2024-03-01\n",
    "\n",
    "### Description:\n",
    "\n",
    "Data overview and exploration to check data types and fix any issue with the data types.\n",
    "\n",
    "this is in other to do a correct data analysis and visualization of the data.\n"
   ]
  },
  {
   "cell_type": "markdown",
   "metadata": {
    "pycharm": {
     "name": "#%% md\n"
    }
   },
   "source": [
    "## 📚 Import  libraries"
   ]
  },
  {
   "cell_type": "code",
   "execution_count": 1,
   "metadata": {
    "collapsed": false,
    "pycharm": {
     "name": "#%%\n"
    }
   },
   "outputs": [],
   "source": [
    "# base libraries for data science\n",
    "import pandas as pd\n",
    "\n",
    "from pathlib import Path"
   ]
  },
  {
   "cell_type": "code",
   "execution_count": 2,
   "metadata": {},
   "outputs": [],
   "source": [
    "pd.options.mode.string_storage = \"pyarrow\""
   ]
  },
  {
   "cell_type": "markdown",
   "metadata": {
    "pycharm": {
     "name": "#%% md\n"
    }
   },
   "source": [
    "## 💾 Load data"
   ]
  },
  {
   "cell_type": "code",
   "execution_count": 3,
   "metadata": {
    "collapsed": false,
    "pycharm": {
     "name": "#%%\n"
    }
   },
   "outputs": [],
   "source": [
    "# data directory path\n",
    "DATA_DIR = Path.cwd().resolve().parents[1] / \"data\"\n",
    "\n",
    "titanic_df= pd.read_parquet(DATA_DIR / \n",
    "                            \"01_raw/titanic_raw.parquet\",\n",
    "                            dtype_backend=\"pyarrow\",\n",
    "                            engine=\"pyarrow\")"
   ]
  },
  {
   "cell_type": "markdown",
   "metadata": {
    "pycharm": {
     "name": "#%% md\n"
    }
   },
   "source": [
    "## 📊 Data description"
   ]
  },
  {
   "cell_type": "code",
   "execution_count": 4,
   "metadata": {},
   "outputs": [
    {
     "name": "stdout",
     "output_type": "stream",
     "text": [
      "<class 'pandas.core.frame.DataFrame'>\n",
      "RangeIndex: 1309 entries, 0 to 1308\n",
      "Data columns (total 12 columns):\n",
      " #   Column     Non-Null Count  Dtype          \n",
      "---  ------     --------------  -----          \n",
      " 0   pclass     1309 non-null   int64[pyarrow] \n",
      " 1   survived   1309 non-null   int64[pyarrow] \n",
      " 2   name       1309 non-null   string[pyarrow]\n",
      " 3   sex        1309 non-null   string[pyarrow]\n",
      " 4   age        1309 non-null   string[pyarrow]\n",
      " 5   sibsp      1309 non-null   int64[pyarrow] \n",
      " 6   parch      1309 non-null   int64[pyarrow] \n",
      " 7   ticket     1309 non-null   string[pyarrow]\n",
      " 8   fare       1309 non-null   string[pyarrow]\n",
      " 9   cabin      1309 non-null   string[pyarrow]\n",
      " 10  embarked   1309 non-null   string[pyarrow]\n",
      " 11  home.dest  1309 non-null   string[pyarrow]\n",
      "dtypes: int64[pyarrow](4), string[pyarrow](8)\n",
      "memory usage: 158.3 KB\n"
     ]
    }
   ],
   "source": [
    "titanic_df.info()"
   ]
  },
  {
   "cell_type": "code",
   "execution_count": 5,
   "metadata": {},
   "outputs": [
    {
     "data": {
      "text/html": [
       "<div>\n",
       "<style scoped>\n",
       "    .dataframe tbody tr th:only-of-type {\n",
       "        vertical-align: middle;\n",
       "    }\n",
       "\n",
       "    .dataframe tbody tr th {\n",
       "        vertical-align: top;\n",
       "    }\n",
       "\n",
       "    .dataframe thead th {\n",
       "        text-align: right;\n",
       "    }\n",
       "</style>\n",
       "<table border=\"1\" class=\"dataframe\">\n",
       "  <thead>\n",
       "    <tr style=\"text-align: right;\">\n",
       "      <th></th>\n",
       "      <th>pclass</th>\n",
       "      <th>survived</th>\n",
       "      <th>name</th>\n",
       "      <th>sex</th>\n",
       "      <th>age</th>\n",
       "      <th>sibsp</th>\n",
       "      <th>parch</th>\n",
       "      <th>ticket</th>\n",
       "      <th>fare</th>\n",
       "      <th>cabin</th>\n",
       "      <th>embarked</th>\n",
       "      <th>home.dest</th>\n",
       "    </tr>\n",
       "  </thead>\n",
       "  <tbody>\n",
       "    <tr>\n",
       "      <th>711</th>\n",
       "      <td>3</td>\n",
       "      <td>0</td>\n",
       "      <td>Carver, Mr. Alfred John</td>\n",
       "      <td>male</td>\n",
       "      <td>28</td>\n",
       "      <td>0</td>\n",
       "      <td>0</td>\n",
       "      <td>392095</td>\n",
       "      <td>7.25</td>\n",
       "      <td>?</td>\n",
       "      <td>S</td>\n",
       "      <td>St Denys, Southampton, Hants</td>\n",
       "    </tr>\n",
       "    <tr>\n",
       "      <th>971</th>\n",
       "      <td>3</td>\n",
       "      <td>0</td>\n",
       "      <td>Linehan, Mr. Michael</td>\n",
       "      <td>male</td>\n",
       "      <td>?</td>\n",
       "      <td>0</td>\n",
       "      <td>0</td>\n",
       "      <td>330971</td>\n",
       "      <td>7.8792</td>\n",
       "      <td>?</td>\n",
       "      <td>Q</td>\n",
       "      <td>?</td>\n",
       "    </tr>\n",
       "    <tr>\n",
       "      <th>978</th>\n",
       "      <td>3</td>\n",
       "      <td>1</td>\n",
       "      <td>Lulic, Mr. Nikola</td>\n",
       "      <td>male</td>\n",
       "      <td>27</td>\n",
       "      <td>0</td>\n",
       "      <td>0</td>\n",
       "      <td>315098</td>\n",
       "      <td>8.6625</td>\n",
       "      <td>?</td>\n",
       "      <td>S</td>\n",
       "      <td>?</td>\n",
       "    </tr>\n",
       "    <tr>\n",
       "      <th>319</th>\n",
       "      <td>1</td>\n",
       "      <td>1</td>\n",
       "      <td>Wilson, Miss. Helen Alice</td>\n",
       "      <td>female</td>\n",
       "      <td>31</td>\n",
       "      <td>0</td>\n",
       "      <td>0</td>\n",
       "      <td>16966</td>\n",
       "      <td>134.5</td>\n",
       "      <td>E39 E41</td>\n",
       "      <td>C</td>\n",
       "      <td>?</td>\n",
       "    </tr>\n",
       "    <tr>\n",
       "      <th>357</th>\n",
       "      <td>2</td>\n",
       "      <td>0</td>\n",
       "      <td>Byles, Rev. Thomas Roussel Davids</td>\n",
       "      <td>male</td>\n",
       "      <td>42</td>\n",
       "      <td>0</td>\n",
       "      <td>0</td>\n",
       "      <td>244310</td>\n",
       "      <td>13</td>\n",
       "      <td>?</td>\n",
       "      <td>S</td>\n",
       "      <td>London</td>\n",
       "    </tr>\n",
       "    <tr>\n",
       "      <th>492</th>\n",
       "      <td>2</td>\n",
       "      <td>1</td>\n",
       "      <td>Mallet, Master. Andre</td>\n",
       "      <td>male</td>\n",
       "      <td>1</td>\n",
       "      <td>0</td>\n",
       "      <td>2</td>\n",
       "      <td>S.C./PARIS 2079</td>\n",
       "      <td>37.0042</td>\n",
       "      <td>?</td>\n",
       "      <td>C</td>\n",
       "      <td>Paris / Montreal, PQ</td>\n",
       "    </tr>\n",
       "    <tr>\n",
       "      <th>112</th>\n",
       "      <td>1</td>\n",
       "      <td>1</td>\n",
       "      <td>Fortune, Miss. Ethel Flora</td>\n",
       "      <td>female</td>\n",
       "      <td>28</td>\n",
       "      <td>3</td>\n",
       "      <td>2</td>\n",
       "      <td>19950</td>\n",
       "      <td>263</td>\n",
       "      <td>C23 C25 C27</td>\n",
       "      <td>S</td>\n",
       "      <td>Winnipeg, MB</td>\n",
       "    </tr>\n",
       "    <tr>\n",
       "      <th>847</th>\n",
       "      <td>3</td>\n",
       "      <td>0</td>\n",
       "      <td>Hanna, Mr. Mansour</td>\n",
       "      <td>male</td>\n",
       "      <td>23.5</td>\n",
       "      <td>0</td>\n",
       "      <td>0</td>\n",
       "      <td>2693</td>\n",
       "      <td>7.2292</td>\n",
       "      <td>?</td>\n",
       "      <td>C</td>\n",
       "      <td>?</td>\n",
       "    </tr>\n",
       "    <tr>\n",
       "      <th>580</th>\n",
       "      <td>2</td>\n",
       "      <td>1</td>\n",
       "      <td>Ware, Mrs. John James (Florence Louise Long)</td>\n",
       "      <td>female</td>\n",
       "      <td>31</td>\n",
       "      <td>0</td>\n",
       "      <td>0</td>\n",
       "      <td>CA 31352</td>\n",
       "      <td>21</td>\n",
       "      <td>?</td>\n",
       "      <td>S</td>\n",
       "      <td>Bristol, England / New Britain, CT</td>\n",
       "    </tr>\n",
       "    <tr>\n",
       "      <th>440</th>\n",
       "      <td>2</td>\n",
       "      <td>1</td>\n",
       "      <td>Herman, Mrs. Samuel (Jane Laver)</td>\n",
       "      <td>female</td>\n",
       "      <td>48</td>\n",
       "      <td>1</td>\n",
       "      <td>2</td>\n",
       "      <td>220845</td>\n",
       "      <td>65</td>\n",
       "      <td>?</td>\n",
       "      <td>S</td>\n",
       "      <td>Somerset / Bernardsville, NJ</td>\n",
       "    </tr>\n",
       "  </tbody>\n",
       "</table>\n",
       "</div>"
      ],
      "text/plain": [
       "     pclass  survived                                          name     sex  \\\n",
       "711       3         0                       Carver, Mr. Alfred John    male   \n",
       "971       3         0                          Linehan, Mr. Michael    male   \n",
       "978       3         1                             Lulic, Mr. Nikola    male   \n",
       "319       1         1                     Wilson, Miss. Helen Alice  female   \n",
       "357       2         0             Byles, Rev. Thomas Roussel Davids    male   \n",
       "492       2         1                         Mallet, Master. Andre    male   \n",
       "112       1         1                    Fortune, Miss. Ethel Flora  female   \n",
       "847       3         0                            Hanna, Mr. Mansour    male   \n",
       "580       2         1  Ware, Mrs. John James (Florence Louise Long)  female   \n",
       "440       2         1              Herman, Mrs. Samuel (Jane Laver)  female   \n",
       "\n",
       "      age  sibsp  parch           ticket     fare        cabin embarked  \\\n",
       "711    28      0      0           392095     7.25            ?        S   \n",
       "971     ?      0      0           330971   7.8792            ?        Q   \n",
       "978    27      0      0           315098   8.6625            ?        S   \n",
       "319    31      0      0            16966    134.5      E39 E41        C   \n",
       "357    42      0      0           244310       13            ?        S   \n",
       "492     1      0      2  S.C./PARIS 2079  37.0042            ?        C   \n",
       "112    28      3      2            19950      263  C23 C25 C27        S   \n",
       "847  23.5      0      0             2693   7.2292            ?        C   \n",
       "580    31      0      0         CA 31352       21            ?        S   \n",
       "440    48      1      2           220845       65            ?        S   \n",
       "\n",
       "                              home.dest  \n",
       "711        St Denys, Southampton, Hants  \n",
       "971                                   ?  \n",
       "978                                   ?  \n",
       "319                                   ?  \n",
       "357                              London  \n",
       "492                Paris / Montreal, PQ  \n",
       "112                        Winnipeg, MB  \n",
       "847                                   ?  \n",
       "580  Bristol, England / New Britain, CT  \n",
       "440        Somerset / Bernardsville, NJ  "
      ]
     },
     "execution_count": 5,
     "metadata": {},
     "output_type": "execute_result"
    }
   ],
   "source": [
    "titanic_df.sample(10)"
   ]
  },
  {
   "cell_type": "markdown",
   "metadata": {},
   "source": [
    "## Null values\n",
    "\n",
    "In this dataset the null values are represented by the string '?' so we need to replace them with `pd.NA`"
   ]
  },
  {
   "cell_type": "code",
   "execution_count": 6,
   "metadata": {},
   "outputs": [
    {
     "name": "stdout",
     "output_type": "stream",
     "text": [
      "<class 'pandas.core.frame.DataFrame'>\n",
      "RangeIndex: 1309 entries, 0 to 1308\n",
      "Data columns (total 12 columns):\n",
      " #   Column     Non-Null Count  Dtype          \n",
      "---  ------     --------------  -----          \n",
      " 0   pclass     1309 non-null   int64[pyarrow] \n",
      " 1   survived   1309 non-null   int64[pyarrow] \n",
      " 2   name       1309 non-null   string[pyarrow]\n",
      " 3   sex        1309 non-null   string[pyarrow]\n",
      " 4   age        1046 non-null   string[pyarrow]\n",
      " 5   sibsp      1309 non-null   int64[pyarrow] \n",
      " 6   parch      1309 non-null   int64[pyarrow] \n",
      " 7   ticket     1309 non-null   string[pyarrow]\n",
      " 8   fare       1308 non-null   string[pyarrow]\n",
      " 9   cabin      295 non-null    string[pyarrow]\n",
      " 10  embarked   1307 non-null   string[pyarrow]\n",
      " 11  home.dest  745 non-null    string[pyarrow]\n",
      "dtypes: int64[pyarrow](4), string[pyarrow](8)\n",
      "memory usage: 157.3 KB\n"
     ]
    }
   ],
   "source": [
    "titanic_df =  titanic_df.replace(\"?\", pd.NA)\n",
    "\n",
    "titanic_df.info()"
   ]
  },
  {
   "cell_type": "markdown",
   "metadata": {},
   "source": [
    "## Remove columns\n",
    "\n",
    "- We will remove the columns that have too many null values and need to much effort to find the correct value.\n",
    "- The column `ticket` is a string that is unique for each passenger, but is just a identifier, so we will remove it.\n",
    "\n",
    "so we will remove the columns `cabin`, `ticket` and `home.dest`"
   ]
  },
  {
   "cell_type": "code",
   "execution_count": 7,
   "metadata": {},
   "outputs": [
    {
     "name": "stdout",
     "output_type": "stream",
     "text": [
      "<class 'pandas.core.frame.DataFrame'>\n",
      "RangeIndex: 1309 entries, 0 to 1308\n",
      "Data columns (total 9 columns):\n",
      " #   Column    Non-Null Count  Dtype          \n",
      "---  ------    --------------  -----          \n",
      " 0   pclass    1309 non-null   int64[pyarrow] \n",
      " 1   survived  1309 non-null   int64[pyarrow] \n",
      " 2   name      1309 non-null   string[pyarrow]\n",
      " 3   sex       1309 non-null   string[pyarrow]\n",
      " 4   age       1046 non-null   string[pyarrow]\n",
      " 5   sibsp     1309 non-null   int64[pyarrow] \n",
      " 6   parch     1309 non-null   int64[pyarrow] \n",
      " 7   fare      1308 non-null   string[pyarrow]\n",
      " 8   embarked  1307 non-null   string[pyarrow]\n",
      "dtypes: int64[pyarrow](4), string[pyarrow](5)\n",
      "memory usage: 117.9 KB\n"
     ]
    }
   ],
   "source": [
    "titanic_df = titanic_df.drop(columns=[\"cabin\", \"home.dest\", \"ticket\"])\n",
    "\n",
    "titanic_df.info()"
   ]
  },
  {
   "cell_type": "markdown",
   "metadata": {},
   "source": [
    "### Categorical variables\n",
    "#### Ordinal\n",
    "- `Pclass`: A proxy for socio-economic status (SES)\n",
    "    - 1 = Upper\n",
    "    - 2 = Middle\n",
    "    - 3 = Lower\n"
   ]
  },
  {
   "cell_type": "markdown",
   "metadata": {},
   "source": [
    "#### Nominal\n",
    "\n",
    "- `sex`: Gender of the passenger\n",
    "    - female\n",
    "    - male\n",
    "- `embarked`: Port of embarkation\n",
    "    - C = Cherbourg\n",
    "    - Q = Queenstown\n",
    "    - S = Southampton"
   ]
  },
  {
   "cell_type": "markdown",
   "metadata": {},
   "source": [
    "### Numerical variables\n",
    "#### Discrete\n",
    "- `sibsp`: The dataset defines family relations in this way...\n",
    "    - Sibling = brother, sister, stepbrother, stepsister\n",
    "    - Spouse = husband, wife (mistresses and fiancés were ignored)\n",
    "    - `sibsp` = 0, 1, 2, 3, 4, 5, 8\n",
    "- `parch`: The dataset defines family relations in this way...\n",
    "    - Parent = mother, father\n",
    "    - Child = daughter, son, stepdaughter, stepson\n",
    "    - Some children travelled only with a nanny, therefore `parch` = 0 for them.\n",
    "    - `parch` = 0, 1, 2, 3, 4, 5, 6 "
   ]
  },
  {
   "cell_type": "markdown",
   "metadata": {},
   "source": [
    "#### Continuous\n",
    "\n",
    "- `fare`: Passenger fare\n",
    "- `age`: Age of the passenger, some values are float has to be converted to int."
   ]
  },
  {
   "cell_type": "markdown",
   "metadata": {},
   "source": [
    "### Boolean variables\n",
    "- `Survived`: 0 = No, 1 = Yes"
   ]
  },
  {
   "cell_type": "markdown",
   "metadata": {},
   "source": [
    "## String variables\n",
    "\n",
    "- `name`: Name of the passenger with the format `Last name, Title. First name`"
   ]
  },
  {
   "cell_type": "markdown",
   "metadata": {},
   "source": [
    "## Convert data types\n",
    "\n",
    "### Categorical variables"
   ]
  },
  {
   "cell_type": "code",
   "execution_count": 8,
   "metadata": {},
   "outputs": [],
   "source": [
    "cols_categoric = [  \"pclass\",\n",
    "                    \"sex\",\n",
    "                    \"embarked\"]\n",
    "\n",
    "titanic_df[cols_categoric] = titanic_df[cols_categoric].astype(\"category\")"
   ]
  },
  {
   "cell_type": "code",
   "execution_count": 9,
   "metadata": {},
   "outputs": [],
   "source": [
    "titanic_df[\"pclass\"] = pd.Categorical(\n",
    "    titanic_df[\"pclass\"],\n",
    "    categories=[3, 2, 1],\n",
    "    ordered=True\n",
    ")"
   ]
  },
  {
   "cell_type": "markdown",
   "metadata": {},
   "source": [
    "### Numerical variables"
   ]
  },
  {
   "cell_type": "code",
   "execution_count": 10,
   "metadata": {},
   "outputs": [],
   "source": [
    "cols_numeric_float = [\"age\", \"fare\"]\n",
    "\n",
    "titanic_df[cols_numeric_float] = (titanic_df[cols_numeric_float]\n",
    "                                  .astype(dtype=\"float32[pyarrow]\"))"
   ]
  },
  {
   "cell_type": "code",
   "execution_count": 11,
   "metadata": {},
   "outputs": [],
   "source": [
    "cols_numeric_int = ['sibsp', 'parch']\n",
    "\n",
    "titanic_df[cols_numeric_int] = (titanic_df[cols_numeric_int]\n",
    "                                .astype(dtype=\"uint8[pyarrow]\"))"
   ]
  },
  {
   "cell_type": "markdown",
   "metadata": {},
   "source": [
    "### Boolean variables"
   ]
  },
  {
   "cell_type": "code",
   "execution_count": 12,
   "metadata": {},
   "outputs": [],
   "source": [
    "cols_boolean = [\"survived\"]\n",
    "\n",
    "titanic_df[cols_boolean] = (titanic_df[cols_boolean]\n",
    "                            .astype(\"bool[pyarrow]\"))"
   ]
  },
  {
   "cell_type": "code",
   "execution_count": 13,
   "metadata": {},
   "outputs": [
    {
     "name": "stdout",
     "output_type": "stream",
     "text": [
      "<class 'pandas.core.frame.DataFrame'>\n",
      "RangeIndex: 1309 entries, 0 to 1308\n",
      "Data columns (total 9 columns):\n",
      " #   Column    Non-Null Count  Dtype          \n",
      "---  ------    --------------  -----          \n",
      " 0   pclass    1309 non-null   category       \n",
      " 1   survived  1309 non-null   bool[pyarrow]  \n",
      " 2   name      1309 non-null   string[pyarrow]\n",
      " 3   sex       1309 non-null   category       \n",
      " 4   age       1046 non-null   float[pyarrow] \n",
      " 5   sibsp     1309 non-null   uint8[pyarrow] \n",
      " 6   parch     1309 non-null   uint8[pyarrow] \n",
      " 7   fare      1308 non-null   float[pyarrow] \n",
      " 8   embarked  1307 non-null   category       \n",
      "dtypes: bool[pyarrow](1), category(3), float[pyarrow](2), string[pyarrow](1), uint8[pyarrow](2)\n",
      "memory usage: 57.9 KB\n"
     ]
    }
   ],
   "source": [
    "titanic_df.info()"
   ]
  },
  {
   "cell_type": "markdown",
   "metadata": {},
   "source": [
    "###  💾 Save dataframe with data types"
   ]
  },
  {
   "cell_type": "code",
   "execution_count": 15,
   "metadata": {},
   "outputs": [],
   "source": [
    "titanic_df.to_parquet(  DATA_DIR / \n",
    "                        \"02_intermediate/titanic_type_fixed.parquet\",\n",
    "                        index=False)"
   ]
  },
  {
   "cell_type": "markdown",
   "metadata": {
    "pycharm": {
     "name": "#%% md\n"
    }
   },
   "source": [
    "## 📊 Analysis of Results\n",
    "\n",
    "Some columns have been removed and the data types have been fixed to correct pyarrow data types.\n",
    "and null values have been replaced with `pd.NA`\n",
    "\n",
    "in order to do a correct analysis and visualization of the data.\n"
   ]
  },
  {
   "cell_type": "markdown",
   "metadata": {
    "pycharm": {
     "name": "#%% md\n"
    }
   },
   "source": [
    "## 💡 Proposals and Ideas\n",
    "\n",
    "use other tools to compare which one can be used to describe and explore data and do data analysis.\n"
   ]
  },
  {
   "cell_type": "markdown",
   "metadata": {},
   "source": [
    "## 📖 References\n",
    "\n",
    "- <https://pandas.pydata.org/docs/user_guide/pyarrow.html>"
   ]
  }
 ],
 "metadata": {
  "kernelspec": {
   "display_name": "Python 3 (ipykernel)",
   "language": "python",
   "name": "python3"
  },
  "language_info": {
   "codemirror_mode": {
    "name": "ipython",
    "version": 3
   },
   "file_extension": ".py",
   "mimetype": "text/x-python",
   "name": "python",
   "nbconvert_exporter": "python",
   "pygments_lexer": "ipython3",
   "version": "3.11.8"
  }
 },
 "nbformat": 4,
 "nbformat_minor": 4
}
