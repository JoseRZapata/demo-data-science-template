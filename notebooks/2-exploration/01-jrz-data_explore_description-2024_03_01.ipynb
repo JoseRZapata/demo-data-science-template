{
 "cells": [
  {
   "cell_type": "markdown",
   "metadata": {},
   "source": [
    "## Data explore and description\n",
    "\n",
    "### By:\n",
    "Jose R. Zapata\n",
    "\n",
    "### Date:\n",
    "2024-03-01\n",
    "\n",
    "### Description:\n",
    "\n",
    "Data overview and exploration to check data types and fix any issue with the data types.\n",
    "\n",
    "this is in other to do a correct data analysis and visualization of the data.\n"
   ]
  },
  {
   "cell_type": "markdown",
   "metadata": {
    "pycharm": {
     "name": "#%% md\n"
    }
   },
   "source": [
    "## 📚 Import  libraries"
   ]
  },
  {
   "cell_type": "code",
   "execution_count": 3,
   "metadata": {
    "collapsed": false,
    "pycharm": {
     "name": "#%%\n"
    }
   },
   "outputs": [],
   "source": [
    "# base libraries for data science\n",
    "import pandas as pd\n",
    "import numpy as np\n",
    "import pyarrow as pa\n",
    "\n",
    "from pathlib import Path"
   ]
  },
  {
   "cell_type": "markdown",
   "metadata": {
    "pycharm": {
     "name": "#%% md\n"
    }
   },
   "source": [
    "## 💾 Load data"
   ]
  },
  {
   "cell_type": "code",
   "execution_count": 4,
   "metadata": {
    "collapsed": false,
    "pycharm": {
     "name": "#%%\n"
    }
   },
   "outputs": [],
   "source": [
    "# data directory path\n",
    "DATA_DIR = Path.cwd().resolve().parents[1] / \"data\"\n",
    "\n",
    "titanic_df= pd.read_csv(DATA_DIR / \n",
    "                        \"01_raw/titanic_raw.csv\")"
   ]
  },
  {
   "cell_type": "markdown",
   "metadata": {
    "pycharm": {
     "name": "#%% md\n"
    }
   },
   "source": [
    "## 📊 Data description"
   ]
  },
  {
   "cell_type": "code",
   "execution_count": 5,
   "metadata": {},
   "outputs": [
    {
     "name": "stdout",
     "output_type": "stream",
     "text": [
      "<class 'pandas.core.frame.DataFrame'>\n",
      "RangeIndex: 1309 entries, 0 to 1308\n",
      "Data columns (total 13 columns):\n",
      " #   Column      Non-Null Count  Dtype \n",
      "---  ------      --------------  ----- \n",
      " 0   Unnamed: 0  1309 non-null   int64 \n",
      " 1   pclass      1309 non-null   int64 \n",
      " 2   survived    1309 non-null   int64 \n",
      " 3   name        1309 non-null   object\n",
      " 4   sex         1309 non-null   object\n",
      " 5   age         1309 non-null   object\n",
      " 6   sibsp       1309 non-null   int64 \n",
      " 7   parch       1309 non-null   int64 \n",
      " 8   ticket      1309 non-null   object\n",
      " 9   fare        1309 non-null   object\n",
      " 10  cabin       1309 non-null   object\n",
      " 11  embarked    1309 non-null   object\n",
      " 12  home.dest   1309 non-null   object\n",
      "dtypes: int64(5), object(8)\n",
      "memory usage: 133.1+ KB\n"
     ]
    }
   ],
   "source": [
    "titanic_df.info()"
   ]
  },
  {
   "cell_type": "code",
   "execution_count": 6,
   "metadata": {},
   "outputs": [
    {
     "data": {
      "text/html": [
       "<div>\n",
       "<style scoped>\n",
       "    .dataframe tbody tr th:only-of-type {\n",
       "        vertical-align: middle;\n",
       "    }\n",
       "\n",
       "    .dataframe tbody tr th {\n",
       "        vertical-align: top;\n",
       "    }\n",
       "\n",
       "    .dataframe thead th {\n",
       "        text-align: right;\n",
       "    }\n",
       "</style>\n",
       "<table border=\"1\" class=\"dataframe\">\n",
       "  <thead>\n",
       "    <tr style=\"text-align: right;\">\n",
       "      <th></th>\n",
       "      <th>Unnamed: 0</th>\n",
       "      <th>pclass</th>\n",
       "      <th>survived</th>\n",
       "      <th>name</th>\n",
       "      <th>sex</th>\n",
       "      <th>age</th>\n",
       "      <th>sibsp</th>\n",
       "      <th>parch</th>\n",
       "      <th>ticket</th>\n",
       "      <th>fare</th>\n",
       "      <th>cabin</th>\n",
       "      <th>embarked</th>\n",
       "      <th>home.dest</th>\n",
       "    </tr>\n",
       "  </thead>\n",
       "  <tbody>\n",
       "    <tr>\n",
       "      <th>14</th>\n",
       "      <td>14</td>\n",
       "      <td>1</td>\n",
       "      <td>1</td>\n",
       "      <td>Barkworth, Mr. Algernon Henry Wilson</td>\n",
       "      <td>male</td>\n",
       "      <td>80</td>\n",
       "      <td>0</td>\n",
       "      <td>0</td>\n",
       "      <td>27042</td>\n",
       "      <td>30</td>\n",
       "      <td>A23</td>\n",
       "      <td>S</td>\n",
       "      <td>Hessle, Yorks</td>\n",
       "    </tr>\n",
       "    <tr>\n",
       "      <th>626</th>\n",
       "      <td>626</td>\n",
       "      <td>3</td>\n",
       "      <td>0</td>\n",
       "      <td>Andersson, Miss. Ida Augusta Margareta</td>\n",
       "      <td>female</td>\n",
       "      <td>38</td>\n",
       "      <td>4</td>\n",
       "      <td>2</td>\n",
       "      <td>347091</td>\n",
       "      <td>7.775</td>\n",
       "      <td>?</td>\n",
       "      <td>S</td>\n",
       "      <td>Vadsbro, Sweden Ministee, MI</td>\n",
       "    </tr>\n",
       "    <tr>\n",
       "      <th>1083</th>\n",
       "      <td>1083</td>\n",
       "      <td>3</td>\n",
       "      <td>0</td>\n",
       "      <td>Olsen, Mr. Henry Margido</td>\n",
       "      <td>male</td>\n",
       "      <td>28</td>\n",
       "      <td>0</td>\n",
       "      <td>0</td>\n",
       "      <td>C 4001</td>\n",
       "      <td>22.525</td>\n",
       "      <td>?</td>\n",
       "      <td>S</td>\n",
       "      <td>?</td>\n",
       "    </tr>\n",
       "    <tr>\n",
       "      <th>360</th>\n",
       "      <td>360</td>\n",
       "      <td>2</td>\n",
       "      <td>1</td>\n",
       "      <td>Caldwell, Mr. Albert Francis</td>\n",
       "      <td>male</td>\n",
       "      <td>26</td>\n",
       "      <td>1</td>\n",
       "      <td>1</td>\n",
       "      <td>248738</td>\n",
       "      <td>29</td>\n",
       "      <td>?</td>\n",
       "      <td>S</td>\n",
       "      <td>Bangkok, Thailand / Roseville, IL</td>\n",
       "    </tr>\n",
       "    <tr>\n",
       "      <th>1252</th>\n",
       "      <td>1252</td>\n",
       "      <td>3</td>\n",
       "      <td>0</td>\n",
       "      <td>Torber, Mr. Ernst William</td>\n",
       "      <td>male</td>\n",
       "      <td>44</td>\n",
       "      <td>0</td>\n",
       "      <td>0</td>\n",
       "      <td>364511</td>\n",
       "      <td>8.05</td>\n",
       "      <td>?</td>\n",
       "      <td>S</td>\n",
       "      <td>?</td>\n",
       "    </tr>\n",
       "    <tr>\n",
       "      <th>679</th>\n",
       "      <td>679</td>\n",
       "      <td>3</td>\n",
       "      <td>0</td>\n",
       "      <td>Boulos, Miss. Nourelain</td>\n",
       "      <td>female</td>\n",
       "      <td>9</td>\n",
       "      <td>1</td>\n",
       "      <td>1</td>\n",
       "      <td>2678</td>\n",
       "      <td>15.2458</td>\n",
       "      <td>?</td>\n",
       "      <td>C</td>\n",
       "      <td>Syria Kent, ON</td>\n",
       "    </tr>\n",
       "    <tr>\n",
       "      <th>469</th>\n",
       "      <td>469</td>\n",
       "      <td>2</td>\n",
       "      <td>1</td>\n",
       "      <td>Keane, Miss. Nora A</td>\n",
       "      <td>female</td>\n",
       "      <td>?</td>\n",
       "      <td>0</td>\n",
       "      <td>0</td>\n",
       "      <td>226593</td>\n",
       "      <td>12.35</td>\n",
       "      <td>E101</td>\n",
       "      <td>Q</td>\n",
       "      <td>Harrisburg, PA</td>\n",
       "    </tr>\n",
       "    <tr>\n",
       "      <th>1007</th>\n",
       "      <td>1007</td>\n",
       "      <td>3</td>\n",
       "      <td>1</td>\n",
       "      <td>McGowan, Miss. Anna 'Annie'</td>\n",
       "      <td>female</td>\n",
       "      <td>15</td>\n",
       "      <td>0</td>\n",
       "      <td>0</td>\n",
       "      <td>330923</td>\n",
       "      <td>8.0292</td>\n",
       "      <td>?</td>\n",
       "      <td>Q</td>\n",
       "      <td>?</td>\n",
       "    </tr>\n",
       "    <tr>\n",
       "      <th>187</th>\n",
       "      <td>187</td>\n",
       "      <td>1</td>\n",
       "      <td>1</td>\n",
       "      <td>Lines, Miss. Mary Conover</td>\n",
       "      <td>female</td>\n",
       "      <td>16</td>\n",
       "      <td>0</td>\n",
       "      <td>1</td>\n",
       "      <td>PC 17592</td>\n",
       "      <td>39.4</td>\n",
       "      <td>D28</td>\n",
       "      <td>S</td>\n",
       "      <td>Paris, France</td>\n",
       "    </tr>\n",
       "    <tr>\n",
       "      <th>1113</th>\n",
       "      <td>1113</td>\n",
       "      <td>3</td>\n",
       "      <td>0</td>\n",
       "      <td>Peacock, Mrs. Benjamin (Edith Nile)</td>\n",
       "      <td>female</td>\n",
       "      <td>26</td>\n",
       "      <td>0</td>\n",
       "      <td>2</td>\n",
       "      <td>SOTON/O.Q. 3101315</td>\n",
       "      <td>13.775</td>\n",
       "      <td>?</td>\n",
       "      <td>S</td>\n",
       "      <td>?</td>\n",
       "    </tr>\n",
       "  </tbody>\n",
       "</table>\n",
       "</div>"
      ],
      "text/plain": [
       "      Unnamed: 0  pclass  survived                                    name  \\\n",
       "14            14       1         1    Barkworth, Mr. Algernon Henry Wilson   \n",
       "626          626       3         0  Andersson, Miss. Ida Augusta Margareta   \n",
       "1083        1083       3         0                Olsen, Mr. Henry Margido   \n",
       "360          360       2         1            Caldwell, Mr. Albert Francis   \n",
       "1252        1252       3         0               Torber, Mr. Ernst William   \n",
       "679          679       3         0                 Boulos, Miss. Nourelain   \n",
       "469          469       2         1                     Keane, Miss. Nora A   \n",
       "1007        1007       3         1             McGowan, Miss. Anna 'Annie'   \n",
       "187          187       1         1               Lines, Miss. Mary Conover   \n",
       "1113        1113       3         0     Peacock, Mrs. Benjamin (Edith Nile)   \n",
       "\n",
       "         sex age  sibsp  parch              ticket     fare cabin embarked  \\\n",
       "14      male  80      0      0               27042       30   A23        S   \n",
       "626   female  38      4      2              347091    7.775     ?        S   \n",
       "1083    male  28      0      0              C 4001   22.525     ?        S   \n",
       "360     male  26      1      1              248738       29     ?        S   \n",
       "1252    male  44      0      0              364511     8.05     ?        S   \n",
       "679   female   9      1      1                2678  15.2458     ?        C   \n",
       "469   female   ?      0      0              226593    12.35  E101        Q   \n",
       "1007  female  15      0      0              330923   8.0292     ?        Q   \n",
       "187   female  16      0      1            PC 17592     39.4   D28        S   \n",
       "1113  female  26      0      2  SOTON/O.Q. 3101315   13.775     ?        S   \n",
       "\n",
       "                              home.dest  \n",
       "14                        Hessle, Yorks  \n",
       "626        Vadsbro, Sweden Ministee, MI  \n",
       "1083                                  ?  \n",
       "360   Bangkok, Thailand / Roseville, IL  \n",
       "1252                                  ?  \n",
       "679                      Syria Kent, ON  \n",
       "469                      Harrisburg, PA  \n",
       "1007                                  ?  \n",
       "187                       Paris, France  \n",
       "1113                                  ?  "
      ]
     },
     "execution_count": 6,
     "metadata": {},
     "output_type": "execute_result"
    }
   ],
   "source": [
    "titanic_df.sample(10)"
   ]
  },
  {
   "cell_type": "markdown",
   "metadata": {},
   "source": [
    "## Null values\n",
    "\n",
    "In this dataset the null values are represented by the string '?' so we need to replace them with `pd.NA`"
   ]
  },
  {
   "cell_type": "code",
   "execution_count": 7,
   "metadata": {},
   "outputs": [
    {
     "name": "stdout",
     "output_type": "stream",
     "text": [
      "<class 'pandas.core.frame.DataFrame'>\n",
      "RangeIndex: 1309 entries, 0 to 1308\n",
      "Data columns (total 13 columns):\n",
      " #   Column      Non-Null Count  Dtype \n",
      "---  ------      --------------  ----- \n",
      " 0   Unnamed: 0  1309 non-null   int64 \n",
      " 1   pclass      1309 non-null   int64 \n",
      " 2   survived    1309 non-null   int64 \n",
      " 3   name        1309 non-null   object\n",
      " 4   sex         1309 non-null   object\n",
      " 5   age         1046 non-null   object\n",
      " 6   sibsp       1309 non-null   int64 \n",
      " 7   parch       1309 non-null   int64 \n",
      " 8   ticket      1309 non-null   object\n",
      " 9   fare        1308 non-null   object\n",
      " 10  cabin       295 non-null    object\n",
      " 11  embarked    1307 non-null   object\n",
      " 12  home.dest   745 non-null    object\n",
      "dtypes: int64(5), object(8)\n",
      "memory usage: 133.1+ KB\n"
     ]
    }
   ],
   "source": [
    "titanic_df = titanic_df.replace(\"?\", np.nan)\n",
    "\n",
    "titanic_df.info()"
   ]
  },
  {
   "cell_type": "markdown",
   "metadata": {},
   "source": [
    "## Remove columns\n",
    "\n",
    "- We will remove the columns that have too many null values and need to much effort to find the correct value.\n",
    "- The column `ticket` is a string that is unique for each passenger, but is just a identifier, so we will remove it.\n",
    "\n",
    "so we will remove the columns `cabin`, `ticket` and `home.dest`"
   ]
  },
  {
   "cell_type": "code",
   "execution_count": 8,
   "metadata": {},
   "outputs": [
    {
     "name": "stdout",
     "output_type": "stream",
     "text": [
      "<class 'pandas.core.frame.DataFrame'>\n",
      "RangeIndex: 1309 entries, 0 to 1308\n",
      "Data columns (total 10 columns):\n",
      " #   Column      Non-Null Count  Dtype \n",
      "---  ------      --------------  ----- \n",
      " 0   Unnamed: 0  1309 non-null   int64 \n",
      " 1   pclass      1309 non-null   int64 \n",
      " 2   survived    1309 non-null   int64 \n",
      " 3   name        1309 non-null   object\n",
      " 4   sex         1309 non-null   object\n",
      " 5   age         1046 non-null   object\n",
      " 6   sibsp       1309 non-null   int64 \n",
      " 7   parch       1309 non-null   int64 \n",
      " 8   fare        1308 non-null   object\n",
      " 9   embarked    1307 non-null   object\n",
      "dtypes: int64(5), object(5)\n",
      "memory usage: 102.4+ KB\n"
     ]
    }
   ],
   "source": [
    "titanic_df = titanic_df.drop(columns=[\"cabin\", \"home.dest\", \"ticket\"])\n",
    "\n",
    "titanic_df.info()"
   ]
  },
  {
   "cell_type": "markdown",
   "metadata": {},
   "source": [
    "### Categorical variables\n",
    "#### Ordinal\n",
    "- `Pclass`: A proxy for socio-economic status (SES)\n",
    "    - 1 = Upper\n",
    "    - 2 = Middle\n",
    "    - 3 = Lower\n"
   ]
  },
  {
   "cell_type": "markdown",
   "metadata": {},
   "source": [
    "#### Nominal\n",
    "\n",
    "- `sex`: Gender of the passenger\n",
    "    - female\n",
    "    - male\n",
    "- `embarked`: Port of embarkation\n",
    "    - C = Cherbourg\n",
    "    - Q = Queenstown\n",
    "    - S = Southampton"
   ]
  },
  {
   "cell_type": "markdown",
   "metadata": {},
   "source": [
    "### Numerical variables\n",
    "#### Discrete\n",
    "- `sibsp`: The dataset defines family relations in this way...\n",
    "    - Sibling = brother, sister, stepbrother, stepsister\n",
    "    - Spouse = husband, wife (mistresses and fiancés were ignored)\n",
    "    - `sibsp` = 0, 1, 2, 3, 4, 5, 8\n",
    "- `parch`: The dataset defines family relations in this way...\n",
    "    - Parent = mother, father\n",
    "    - Child = daughter, son, stepdaughter, stepson\n",
    "    - Some children travelled only with a nanny, therefore `parch` = 0 for them.\n",
    "    - `parch` = 0, 1, 2, 3, 4, 5, 6 "
   ]
  },
  {
   "cell_type": "markdown",
   "metadata": {},
   "source": [
    "#### Continuous\n",
    "\n",
    "- `fare`: Passenger fare\n",
    "- `age`: Age of the passenger, some values are float has to be converted to int."
   ]
  },
  {
   "cell_type": "markdown",
   "metadata": {},
   "source": [
    "### Boolean variables\n",
    "- `Survived`: 0 = No, 1 = Yes"
   ]
  },
  {
   "cell_type": "markdown",
   "metadata": {},
   "source": [
    "## String variables\n",
    "\n",
    "- `name`: Name of the passenger with the format `Last name, Title. First name`"
   ]
  },
  {
   "cell_type": "markdown",
   "metadata": {},
   "source": [
    "## Convert data types\n",
    "\n",
    "### Categorical variables"
   ]
  },
  {
   "cell_type": "code",
   "execution_count": 9,
   "metadata": {},
   "outputs": [],
   "source": [
    "cols_categoric = [  \"pclass\",\n",
    "                    \"sex\",\n",
    "                    \"embarked\"]\n",
    "\n",
    "titanic_df[cols_categoric] = titanic_df[cols_categoric].astype(\"category\")"
   ]
  },
  {
   "cell_type": "code",
   "execution_count": 10,
   "metadata": {},
   "outputs": [],
   "source": [
    "titanic_df[\"pclass\"] = pd.Categorical(\n",
    "                        titanic_df[\"pclass\"],\n",
    "                        categories=[3, 2, 1],\n",
    "                        ordered=True\n",
    ")"
   ]
  },
  {
   "cell_type": "markdown",
   "metadata": {},
   "source": [
    "### Numerical variables"
   ]
  },
  {
   "cell_type": "code",
   "execution_count": 11,
   "metadata": {},
   "outputs": [],
   "source": [
    "cols_numeric_float = [\"age\", \"fare\"]\n",
    "\n",
    "titanic_df[cols_numeric_float] = titanic_df[cols_numeric_float].astype(\"float\")"
   ]
  },
  {
   "cell_type": "code",
   "execution_count": 12,
   "metadata": {},
   "outputs": [],
   "source": [
    "cols_numeric_int = ['sibsp', 'parch']\n",
    "\n",
    "titanic_df[cols_numeric_int] = (titanic_df[cols_numeric_int].astype(\"int8\"))"
   ]
  },
  {
   "cell_type": "markdown",
   "metadata": {},
   "source": [
    "### Boolean variables"
   ]
  },
  {
   "cell_type": "code",
   "execution_count": 13,
   "metadata": {},
   "outputs": [],
   "source": [
    "cols_boolean = [\"survived\"]\n",
    "\n",
    "titanic_df[cols_boolean] = (titanic_df[cols_boolean].astype(\"bool\"))"
   ]
  },
  {
   "cell_type": "code",
   "execution_count": 14,
   "metadata": {},
   "outputs": [
    {
     "name": "stdout",
     "output_type": "stream",
     "text": [
      "<class 'pandas.core.frame.DataFrame'>\n",
      "RangeIndex: 1309 entries, 0 to 1308\n",
      "Data columns (total 10 columns):\n",
      " #   Column      Non-Null Count  Dtype   \n",
      "---  ------      --------------  -----   \n",
      " 0   Unnamed: 0  1309 non-null   int64   \n",
      " 1   pclass      1309 non-null   category\n",
      " 2   survived    1309 non-null   bool    \n",
      " 3   name        1309 non-null   object  \n",
      " 4   sex         1309 non-null   category\n",
      " 5   age         1046 non-null   float64 \n",
      " 6   sibsp       1309 non-null   int8    \n",
      " 7   parch       1309 non-null   int8    \n",
      " 8   fare        1308 non-null   float64 \n",
      " 9   embarked    1307 non-null   category\n",
      "dtypes: bool(1), category(3), float64(2), int64(1), int8(2), object(1)\n",
      "memory usage: 49.1+ KB\n"
     ]
    }
   ],
   "source": [
    "titanic_df.info()"
   ]
  },
  {
   "cell_type": "code",
   "execution_count": 15,
   "metadata": {},
   "outputs": [],
   "source": [
    "schema = pa.Table.from_pandas(titanic_df).schema"
   ]
  },
  {
   "cell_type": "markdown",
   "metadata": {},
   "source": [
    "###  💾 Save dataframe with data types"
   ]
  },
  {
   "cell_type": "code",
   "execution_count": 16,
   "metadata": {},
   "outputs": [],
   "source": [
    "titanic_df.to_parquet(\n",
    "    DATA_DIR / \"02_intermediate/titanic_type_fixed.parquet\",\n",
    "    index=False,\n",
    "    schema=schema\n",
    ")"
   ]
  },
  {
   "cell_type": "markdown",
   "metadata": {
    "pycharm": {
     "name": "#%% md\n"
    }
   },
   "source": [
    "## 📊 Analysis of Results\n",
    "\n",
    "Some columns have been removed and the data types have been fixed to correct pyarrow data types.\n",
    "and null values have been replaced with `np.nan`\n",
    "\n",
    "in order to do a correct analysis and visualization of the data.\n"
   ]
  },
  {
   "cell_type": "markdown",
   "metadata": {
    "pycharm": {
     "name": "#%% md\n"
    }
   },
   "source": [
    "## 💡 Proposals and Ideas\n",
    "\n",
    "- use other tools to compare which one can be used to describe and explore data and do data analysis.\n",
    "\n",
    "- Use pyarrow as dtype backend\n",
    "- Use `pd.NA` as null value, but yprofiling is not working well with pyarrow backend\n"
   ]
  },
  {
   "cell_type": "markdown",
   "metadata": {},
   "source": [
    "## 📖 References\n",
    "\n",
    "- <https://pandas.pydata.org/docs/user_guide/pyarrow.html>"
   ]
  }
 ],
 "metadata": {
  "kernelspec": {
   "display_name": "Python 3 (ipykernel)",
   "language": "python",
   "name": "python3"
  },
  "language_info": {
   "codemirror_mode": {
    "name": "ipython",
    "version": 3
   },
   "file_extension": ".py",
   "mimetype": "text/x-python",
   "name": "python",
   "nbconvert_exporter": "python",
   "pygments_lexer": "ipython3",
   "version": "3.11.8"
  }
 },
 "nbformat": 4,
 "nbformat_minor": 4
}
